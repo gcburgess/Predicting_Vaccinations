{
 "cells": [
  {
   "cell_type": "code",
   "execution_count": 1,
   "metadata": {
    "scrolled": true
   },
   "outputs": [],
   "source": [
    "import numpy as np\n",
    "import pandas as pd\n",
    "from matplotlib import pyplot as plt\n",
    "import seaborn as sns\n",
    "\n",
    "from sklearn.model_selection import train_test_split, cross_val_score, GridSearchCV\n",
    "from sklearn.pipeline import Pipeline\n",
    "from sklearn.preprocessing import FunctionTransformer, OneHotEncoder, StandardScaler\n",
    "\n",
    "from sklearn.experimental import enable_iterative_imputer\n",
    "from sklearn.impute import SimpleImputer, IterativeImputer\n",
    "from sklearn.compose import ColumnTransformer\n",
    "\n",
    "from sklearn.dummy import DummyClassifier\n",
    "from sklearn.ensemble import RandomForestClassifier\n",
    "\n",
    "from sklearn.metrics import plot_confusion_matrix, recall_score,\\\n",
    "    accuracy_score, precision_score, f1_score, plot_roc_curve, roc_auc_score\n",
    "\n",
    "from sklearn.inspection import permutation_importance"
   ]
  },
  {
   "cell_type": "code",
   "execution_count": 2,
   "metadata": {},
   "outputs": [],
   "source": [
    "# set options to make data easier to view in Jupyter Notebook\n",
    "pd.set_option(\"display.max_columns\", 100)\n",
    "\n",
    "# print numbers in pd.DataFrame (instead of scientific notation)\n",
    "pd.set_option('display.precision', 12)\n",
    "pd.set_option('display.float_format', lambda x: '%.2f' % x)\n",
    "\n",
    "# set random seed to ensure reproducible results\n",
    "np.random.seed(42)"
   ]
  },
  {
   "cell_type": "markdown",
   "metadata": {},
   "source": [
    "# Prepare data for modeling"
   ]
  },
  {
   "cell_type": "code",
   "execution_count": 3,
   "metadata": {},
   "outputs": [],
   "source": [
    "initial_features_df = pd.read_csv('../data/training_set_features.csv')\n",
    "initial_labels_df = pd.read_csv('../data/training_set_labels.csv')"
   ]
  },
  {
   "cell_type": "markdown",
   "metadata": {},
   "source": [
    "## Manually impute missing values in select columns"
   ]
  },
  {
   "cell_type": "markdown",
   "metadata": {},
   "source": [
    "Manually handling NaNs in `health_insurance`, `employment_industry`, and `employment_occupation` columns\n",
    "\n",
    "The [Interview questions](https://ftp.cdc.gov/pub/health_Statistics/nchs/Dataset_Documentation/NIS/nhfs/NHFSPUF_QUEX.PDF) offer \"don't know\" and \"refused to answer\" choices. I assume that the missing values likely reflect these choices.\n",
    "\n",
    "I recoded the numeric values into a new string column, which can be go through OHE."
   ]
  },
  {
   "cell_type": "code",
   "execution_count": 4,
   "metadata": {},
   "outputs": [],
   "source": [
    "# replace NaNs with 'ins_refused' (assuming that these were \"don't know\" or \"refused\" options)\n",
    "map_dict = {0: 'ins_no', 1: 'ins_yes', np.nan: 'ins_refused'}\n",
    "initial_features_df['health_insurance_cat'] = initial_features_df['health_insurance'].map(map_dict)"
   ]
  },
  {
   "cell_type": "code",
   "execution_count": 5,
   "metadata": {},
   "outputs": [
    {
     "name": "stderr",
     "output_type": "stream",
     "text": [
      "/opt/anaconda3/envs/learn-env/lib/python3.8/site-packages/pandas/core/indexing.py:670: SettingWithCopyWarning: \n",
      "A value is trying to be set on a copy of a slice from a DataFrame\n",
      "\n",
      "See the caveats in the documentation: https://pandas.pydata.org/pandas-docs/stable/user_guide/indexing.html#returning-a-view-versus-a-copy\n",
      "  iloc._setitem_with_indexer(indexer, value)\n"
     ]
    },
    {
     "data": {
      "text/plain": [
       "0         ind_nowork\n",
       "1           pxcmvdjn\n",
       "2           rucpziij\n",
       "3         ind_nowork\n",
       "4           wxleyezf\n",
       "            ...     \n",
       "26702     ind_nowork\n",
       "26703       fcxhlnwr\n",
       "26704    ind_refused\n",
       "26705       fcxhlnwr\n",
       "26706     ind_nowork\n",
       "Name: employment_industry, Length: 26707, dtype: object"
      ]
     },
     "execution_count": 5,
     "metadata": {},
     "output_type": "execute_result"
    }
   ],
   "source": [
    "# First replace NaN with 'ind_nowork' for non-employed\n",
    "filt = (initial_features_df['employment_industry'].isna()) & (initial_features_df['employment_status'].isin(['Not in Labor Force', 'Unemployed']))\n",
    "initial_features_df['employment_industry'].loc[filt] = 'ind_nowork'\n",
    "\n",
    "# Then replace remaining NaNs with 'ind_refused' (again assuming that remaining NaN were don't know or refused options)\n",
    "initial_features_df['employment_industry'].fillna('ind_refused')"
   ]
  },
  {
   "cell_type": "code",
   "execution_count": 6,
   "metadata": {},
   "outputs": [
    {
     "data": {
      "text/plain": [
       "0         occ_nowork\n",
       "1           xgwztkwe\n",
       "2           xtkaffoo\n",
       "3         occ_nowork\n",
       "4           emcorrxb\n",
       "            ...     \n",
       "26702     occ_nowork\n",
       "26703       cmhcxjea\n",
       "26704    occ_refused\n",
       "26705       haliazsg\n",
       "26706     occ_nowork\n",
       "Name: employment_occupation, Length: 26707, dtype: object"
      ]
     },
     "execution_count": 6,
     "metadata": {},
     "output_type": "execute_result"
    }
   ],
   "source": [
    "# First replace NaN with 'occ_nowork' for non-employed\n",
    "filt = (initial_features_df['employment_occupation'].isna()) & (initial_features_df['employment_status'].isin(['Not in Labor Force', 'Unemployed']))\n",
    "initial_features_df['employment_occupation'].loc[filt] = 'occ_nowork'\n",
    "\n",
    "# Then replace remaining NaNs with 'occ_refused' (again assuming that remaining NaN were don't know or refused options)\n",
    "initial_features_df['employment_occupation'].fillna('occ_refused')"
   ]
  },
  {
   "cell_type": "markdown",
   "metadata": {},
   "source": [
    "## Drop columns "
   ]
  },
  {
   "cell_type": "markdown",
   "metadata": {},
   "source": [
    "Drop columns that won't be used in model:\n",
    "- respondent_id: key / unique identifier for each survey response\n",
    "- health_insurance: has been recoded into new column, so old column is dropped\n",
    "- irrelevant columns: questions about H1N1 don't seem to be pertinent for model predicting seasonal flu vaccines \n"
   ]
  },
  {
   "cell_type": "code",
   "execution_count": 7,
   "metadata": {},
   "outputs": [],
   "source": [
    "# drop columns that are not useful for training model\n",
    "# drop health_insurance because we recoded it into string values above\n",
    "initial_features_df.drop(columns=[\n",
    "    'respondent_id', 'health_insurance',\n",
    "    'h1n1_concern', 'h1n1_knowledge', 'doctor_recc_h1n1', \n",
    "    'opinion_h1n1_vacc_effective', 'opinion_h1n1_risk', 'opinion_h1n1_sick_from_vacc'\n",
    "], inplace=True)"
   ]
  },
  {
   "cell_type": "markdown",
   "metadata": {},
   "source": [
    "## Set up train-test split"
   ]
  },
  {
   "cell_type": "code",
   "execution_count": 8,
   "metadata": {},
   "outputs": [],
   "source": [
    "X = initial_features_df.copy()\n",
    "y = initial_labels_df['seasonal_vaccine']"
   ]
  },
  {
   "cell_type": "code",
   "execution_count": 10,
   "metadata": {},
   "outputs": [],
   "source": [
    "X_train, X_test, y_train, y_test = train_test_split(X, y)"
   ]
  },
  {
   "cell_type": "markdown",
   "metadata": {},
   "source": [
    "# Set up pipelines"
   ]
  },
  {
   "cell_type": "code",
   "execution_count": 9,
   "metadata": {},
   "outputs": [],
   "source": [
    "def grab_numeric(df):\n",
    "    return df.select_dtypes(include=np.number)\n",
    "\n",
    "def grab_object(df):\n",
    "    return df.select_dtypes(exclude=np.number)"
   ]
  },
  {
   "cell_type": "code",
   "execution_count": 11,
   "metadata": {},
   "outputs": [],
   "source": [
    "GrabNumeric = FunctionTransformer(grab_numeric)\n",
    "GrabObject = FunctionTransformer(grab_object)"
   ]
  },
  {
   "cell_type": "code",
   "execution_count": 12,
   "metadata": {},
   "outputs": [],
   "source": [
    "# Numeric columns don't need OneHotEncoding (opinion and household vars are ordinal, other vars are binary)\n",
    "subpipe_num = Pipeline(steps=[\n",
    "    ('get_num', GrabNumeric),\n",
    "    ('num_impute', SimpleImputer(strategy='most_frequent')),\n",
    "    ('ss', StandardScaler())\n",
    "])\n",
    "\n",
    "subpipe_cat = Pipeline(steps=[\n",
    "    ('get_obj', GrabObject),\n",
    "    ('cat_impute', SimpleImputer(strategy='most_frequent')),\n",
    "    ('ohe', OneHotEncoder(sparse=False, handle_unknown='ignore')),\n",
    "    ('ss', StandardScaler())\n",
    "])"
   ]
  },
  {
   "cell_type": "code",
   "execution_count": 13,
   "metadata": {},
   "outputs": [],
   "source": [
    "ct = ColumnTransformer(transformers = [\n",
    "    ('subpipe_num', subpipe_num, X_train.columns),\n",
    "    ('subpipe_cat', subpipe_cat, X_train.columns)\n",
    "])"
   ]
  },
  {
   "cell_type": "markdown",
   "metadata": {},
   "source": [
    "## Verify that ColumnTransformer works"
   ]
  },
  {
   "cell_type": "markdown",
   "metadata": {},
   "source": [
    "- Namely, ensure that there are no NaN values left over\n",
    "- Also, check min and max values (using describe)"
   ]
  },
  {
   "cell_type": "code",
   "execution_count": 15,
   "metadata": {},
   "outputs": [],
   "source": [
    "tmp = pd.DataFrame(ct.fit_transform(X_train))"
   ]
  },
  {
   "cell_type": "code",
   "execution_count": 16,
   "metadata": {},
   "outputs": [
    {
     "name": "stdout",
     "output_type": "stream",
     "text": [
      "Number of nulls: 0\n"
     ]
    },
    {
     "data": {
      "text/html": [
       "<div>\n",
       "<style scoped>\n",
       "    .dataframe tbody tr th:only-of-type {\n",
       "        vertical-align: middle;\n",
       "    }\n",
       "\n",
       "    .dataframe tbody tr th {\n",
       "        vertical-align: top;\n",
       "    }\n",
       "\n",
       "    .dataframe thead th {\n",
       "        text-align: right;\n",
       "    }\n",
       "</style>\n",
       "<table border=\"1\" class=\"dataframe\">\n",
       "  <thead>\n",
       "    <tr style=\"text-align: right;\">\n",
       "      <th></th>\n",
       "      <th>0</th>\n",
       "      <th>1</th>\n",
       "      <th>2</th>\n",
       "      <th>3</th>\n",
       "      <th>4</th>\n",
       "      <th>5</th>\n",
       "      <th>6</th>\n",
       "      <th>7</th>\n",
       "      <th>8</th>\n",
       "      <th>9</th>\n",
       "      <th>10</th>\n",
       "      <th>11</th>\n",
       "      <th>12</th>\n",
       "      <th>13</th>\n",
       "      <th>14</th>\n",
       "      <th>15</th>\n",
       "      <th>16</th>\n",
       "      <th>17</th>\n",
       "      <th>18</th>\n",
       "      <th>19</th>\n",
       "      <th>20</th>\n",
       "      <th>21</th>\n",
       "      <th>22</th>\n",
       "      <th>23</th>\n",
       "      <th>24</th>\n",
       "      <th>25</th>\n",
       "      <th>26</th>\n",
       "      <th>27</th>\n",
       "      <th>28</th>\n",
       "      <th>29</th>\n",
       "      <th>30</th>\n",
       "      <th>31</th>\n",
       "      <th>32</th>\n",
       "      <th>33</th>\n",
       "      <th>34</th>\n",
       "      <th>35</th>\n",
       "      <th>36</th>\n",
       "      <th>37</th>\n",
       "      <th>38</th>\n",
       "      <th>39</th>\n",
       "      <th>40</th>\n",
       "      <th>41</th>\n",
       "      <th>42</th>\n",
       "      <th>43</th>\n",
       "      <th>44</th>\n",
       "      <th>45</th>\n",
       "      <th>46</th>\n",
       "      <th>47</th>\n",
       "      <th>48</th>\n",
       "      <th>49</th>\n",
       "      <th>...</th>\n",
       "      <th>53</th>\n",
       "      <th>54</th>\n",
       "      <th>55</th>\n",
       "      <th>56</th>\n",
       "      <th>57</th>\n",
       "      <th>58</th>\n",
       "      <th>59</th>\n",
       "      <th>60</th>\n",
       "      <th>61</th>\n",
       "      <th>62</th>\n",
       "      <th>63</th>\n",
       "      <th>64</th>\n",
       "      <th>65</th>\n",
       "      <th>66</th>\n",
       "      <th>67</th>\n",
       "      <th>68</th>\n",
       "      <th>69</th>\n",
       "      <th>70</th>\n",
       "      <th>71</th>\n",
       "      <th>72</th>\n",
       "      <th>73</th>\n",
       "      <th>74</th>\n",
       "      <th>75</th>\n",
       "      <th>76</th>\n",
       "      <th>77</th>\n",
       "      <th>78</th>\n",
       "      <th>79</th>\n",
       "      <th>80</th>\n",
       "      <th>81</th>\n",
       "      <th>82</th>\n",
       "      <th>83</th>\n",
       "      <th>84</th>\n",
       "      <th>85</th>\n",
       "      <th>86</th>\n",
       "      <th>87</th>\n",
       "      <th>88</th>\n",
       "      <th>89</th>\n",
       "      <th>90</th>\n",
       "      <th>91</th>\n",
       "      <th>92</th>\n",
       "      <th>93</th>\n",
       "      <th>94</th>\n",
       "      <th>95</th>\n",
       "      <th>96</th>\n",
       "      <th>97</th>\n",
       "      <th>98</th>\n",
       "      <th>99</th>\n",
       "      <th>100</th>\n",
       "      <th>101</th>\n",
       "      <th>102</th>\n",
       "    </tr>\n",
       "  </thead>\n",
       "  <tbody>\n",
       "    <tr>\n",
       "      <th>count</th>\n",
       "      <td>20030.00</td>\n",
       "      <td>20030.00</td>\n",
       "      <td>20030.00</td>\n",
       "      <td>20030.00</td>\n",
       "      <td>20030.00</td>\n",
       "      <td>20030.00</td>\n",
       "      <td>20030.00</td>\n",
       "      <td>20030.00</td>\n",
       "      <td>20030.00</td>\n",
       "      <td>20030.00</td>\n",
       "      <td>20030.00</td>\n",
       "      <td>20030.00</td>\n",
       "      <td>20030.00</td>\n",
       "      <td>20030.00</td>\n",
       "      <td>20030.00</td>\n",
       "      <td>20030.00</td>\n",
       "      <td>20030.00</td>\n",
       "      <td>20030.00</td>\n",
       "      <td>20030.00</td>\n",
       "      <td>20030.00</td>\n",
       "      <td>20030.00</td>\n",
       "      <td>20030.00</td>\n",
       "      <td>20030.00</td>\n",
       "      <td>20030.00</td>\n",
       "      <td>20030.00</td>\n",
       "      <td>20030.00</td>\n",
       "      <td>20030.00</td>\n",
       "      <td>20030.00</td>\n",
       "      <td>20030.00</td>\n",
       "      <td>20030.00</td>\n",
       "      <td>20030.00</td>\n",
       "      <td>20030.00</td>\n",
       "      <td>20030.00</td>\n",
       "      <td>20030.00</td>\n",
       "      <td>20030.00</td>\n",
       "      <td>20030.00</td>\n",
       "      <td>20030.00</td>\n",
       "      <td>20030.00</td>\n",
       "      <td>20030.00</td>\n",
       "      <td>20030.00</td>\n",
       "      <td>20030.00</td>\n",
       "      <td>20030.00</td>\n",
       "      <td>20030.00</td>\n",
       "      <td>20030.00</td>\n",
       "      <td>20030.00</td>\n",
       "      <td>20030.00</td>\n",
       "      <td>20030.00</td>\n",
       "      <td>20030.00</td>\n",
       "      <td>20030.00</td>\n",
       "      <td>20030.00</td>\n",
       "      <td>...</td>\n",
       "      <td>20030.00</td>\n",
       "      <td>20030.00</td>\n",
       "      <td>20030.00</td>\n",
       "      <td>20030.00</td>\n",
       "      <td>20030.00</td>\n",
       "      <td>20030.00</td>\n",
       "      <td>20030.00</td>\n",
       "      <td>20030.00</td>\n",
       "      <td>20030.00</td>\n",
       "      <td>20030.00</td>\n",
       "      <td>20030.00</td>\n",
       "      <td>20030.00</td>\n",
       "      <td>20030.00</td>\n",
       "      <td>20030.00</td>\n",
       "      <td>20030.00</td>\n",
       "      <td>20030.00</td>\n",
       "      <td>20030.00</td>\n",
       "      <td>20030.00</td>\n",
       "      <td>20030.00</td>\n",
       "      <td>20030.00</td>\n",
       "      <td>20030.00</td>\n",
       "      <td>20030.00</td>\n",
       "      <td>20030.00</td>\n",
       "      <td>20030.00</td>\n",
       "      <td>20030.00</td>\n",
       "      <td>20030.00</td>\n",
       "      <td>20030.00</td>\n",
       "      <td>20030.00</td>\n",
       "      <td>20030.00</td>\n",
       "      <td>20030.00</td>\n",
       "      <td>20030.00</td>\n",
       "      <td>20030.00</td>\n",
       "      <td>20030.00</td>\n",
       "      <td>20030.00</td>\n",
       "      <td>20030.00</td>\n",
       "      <td>20030.00</td>\n",
       "      <td>20030.00</td>\n",
       "      <td>20030.00</td>\n",
       "      <td>20030.00</td>\n",
       "      <td>20030.00</td>\n",
       "      <td>20030.00</td>\n",
       "      <td>20030.00</td>\n",
       "      <td>20030.00</td>\n",
       "      <td>20030.00</td>\n",
       "      <td>20030.00</td>\n",
       "      <td>20030.00</td>\n",
       "      <td>20030.00</td>\n",
       "      <td>20030.00</td>\n",
       "      <td>20030.00</td>\n",
       "      <td>20030.00</td>\n",
       "    </tr>\n",
       "    <tr>\n",
       "      <th>mean</th>\n",
       "      <td>-0.00</td>\n",
       "      <td>0.00</td>\n",
       "      <td>-0.00</td>\n",
       "      <td>0.00</td>\n",
       "      <td>0.00</td>\n",
       "      <td>-0.00</td>\n",
       "      <td>-0.00</td>\n",
       "      <td>-0.00</td>\n",
       "      <td>0.00</td>\n",
       "      <td>0.00</td>\n",
       "      <td>0.00</td>\n",
       "      <td>0.00</td>\n",
       "      <td>-0.00</td>\n",
       "      <td>0.00</td>\n",
       "      <td>-0.00</td>\n",
       "      <td>0.00</td>\n",
       "      <td>-0.00</td>\n",
       "      <td>0.00</td>\n",
       "      <td>-0.00</td>\n",
       "      <td>-0.00</td>\n",
       "      <td>-0.00</td>\n",
       "      <td>-0.00</td>\n",
       "      <td>0.00</td>\n",
       "      <td>0.00</td>\n",
       "      <td>-0.00</td>\n",
       "      <td>-0.00</td>\n",
       "      <td>0.00</td>\n",
       "      <td>-0.00</td>\n",
       "      <td>-0.00</td>\n",
       "      <td>-0.00</td>\n",
       "      <td>0.00</td>\n",
       "      <td>-0.00</td>\n",
       "      <td>-0.00</td>\n",
       "      <td>0.00</td>\n",
       "      <td>-0.00</td>\n",
       "      <td>0.00</td>\n",
       "      <td>-0.00</td>\n",
       "      <td>0.00</td>\n",
       "      <td>0.00</td>\n",
       "      <td>0.00</td>\n",
       "      <td>0.00</td>\n",
       "      <td>-0.00</td>\n",
       "      <td>-0.00</td>\n",
       "      <td>0.00</td>\n",
       "      <td>0.00</td>\n",
       "      <td>-0.00</td>\n",
       "      <td>0.00</td>\n",
       "      <td>-0.00</td>\n",
       "      <td>0.00</td>\n",
       "      <td>0.00</td>\n",
       "      <td>...</td>\n",
       "      <td>0.00</td>\n",
       "      <td>-0.00</td>\n",
       "      <td>0.00</td>\n",
       "      <td>0.00</td>\n",
       "      <td>0.00</td>\n",
       "      <td>0.00</td>\n",
       "      <td>-0.00</td>\n",
       "      <td>0.00</td>\n",
       "      <td>0.00</td>\n",
       "      <td>-0.00</td>\n",
       "      <td>-0.00</td>\n",
       "      <td>-0.00</td>\n",
       "      <td>-0.00</td>\n",
       "      <td>0.00</td>\n",
       "      <td>0.00</td>\n",
       "      <td>-0.00</td>\n",
       "      <td>0.00</td>\n",
       "      <td>0.00</td>\n",
       "      <td>-0.00</td>\n",
       "      <td>-0.00</td>\n",
       "      <td>-0.00</td>\n",
       "      <td>-0.00</td>\n",
       "      <td>0.00</td>\n",
       "      <td>0.00</td>\n",
       "      <td>-0.00</td>\n",
       "      <td>-0.00</td>\n",
       "      <td>-0.00</td>\n",
       "      <td>-0.00</td>\n",
       "      <td>-0.00</td>\n",
       "      <td>0.00</td>\n",
       "      <td>-0.00</td>\n",
       "      <td>-0.00</td>\n",
       "      <td>0.00</td>\n",
       "      <td>-0.00</td>\n",
       "      <td>0.00</td>\n",
       "      <td>-0.00</td>\n",
       "      <td>-0.00</td>\n",
       "      <td>-0.00</td>\n",
       "      <td>-0.00</td>\n",
       "      <td>0.00</td>\n",
       "      <td>0.00</td>\n",
       "      <td>0.00</td>\n",
       "      <td>0.00</td>\n",
       "      <td>0.00</td>\n",
       "      <td>0.00</td>\n",
       "      <td>0.00</td>\n",
       "      <td>0.00</td>\n",
       "      <td>0.00</td>\n",
       "      <td>-0.00</td>\n",
       "      <td>-0.00</td>\n",
       "    </tr>\n",
       "    <tr>\n",
       "      <th>std</th>\n",
       "      <td>1.00</td>\n",
       "      <td>1.00</td>\n",
       "      <td>1.00</td>\n",
       "      <td>1.00</td>\n",
       "      <td>1.00</td>\n",
       "      <td>1.00</td>\n",
       "      <td>1.00</td>\n",
       "      <td>1.00</td>\n",
       "      <td>1.00</td>\n",
       "      <td>1.00</td>\n",
       "      <td>1.00</td>\n",
       "      <td>1.00</td>\n",
       "      <td>1.00</td>\n",
       "      <td>1.00</td>\n",
       "      <td>1.00</td>\n",
       "      <td>1.00</td>\n",
       "      <td>1.00</td>\n",
       "      <td>1.00</td>\n",
       "      <td>1.00</td>\n",
       "      <td>1.00</td>\n",
       "      <td>1.00</td>\n",
       "      <td>1.00</td>\n",
       "      <td>1.00</td>\n",
       "      <td>1.00</td>\n",
       "      <td>1.00</td>\n",
       "      <td>1.00</td>\n",
       "      <td>1.00</td>\n",
       "      <td>1.00</td>\n",
       "      <td>1.00</td>\n",
       "      <td>1.00</td>\n",
       "      <td>1.00</td>\n",
       "      <td>1.00</td>\n",
       "      <td>1.00</td>\n",
       "      <td>1.00</td>\n",
       "      <td>1.00</td>\n",
       "      <td>1.00</td>\n",
       "      <td>1.00</td>\n",
       "      <td>1.00</td>\n",
       "      <td>1.00</td>\n",
       "      <td>1.00</td>\n",
       "      <td>1.00</td>\n",
       "      <td>1.00</td>\n",
       "      <td>1.00</td>\n",
       "      <td>1.00</td>\n",
       "      <td>1.00</td>\n",
       "      <td>1.00</td>\n",
       "      <td>1.00</td>\n",
       "      <td>1.00</td>\n",
       "      <td>1.00</td>\n",
       "      <td>1.00</td>\n",
       "      <td>...</td>\n",
       "      <td>1.00</td>\n",
       "      <td>1.00</td>\n",
       "      <td>1.00</td>\n",
       "      <td>1.00</td>\n",
       "      <td>1.00</td>\n",
       "      <td>1.00</td>\n",
       "      <td>1.00</td>\n",
       "      <td>1.00</td>\n",
       "      <td>1.00</td>\n",
       "      <td>1.00</td>\n",
       "      <td>1.00</td>\n",
       "      <td>1.00</td>\n",
       "      <td>1.00</td>\n",
       "      <td>1.00</td>\n",
       "      <td>1.00</td>\n",
       "      <td>1.00</td>\n",
       "      <td>1.00</td>\n",
       "      <td>1.00</td>\n",
       "      <td>1.00</td>\n",
       "      <td>1.00</td>\n",
       "      <td>1.00</td>\n",
       "      <td>1.00</td>\n",
       "      <td>1.00</td>\n",
       "      <td>1.00</td>\n",
       "      <td>1.00</td>\n",
       "      <td>1.00</td>\n",
       "      <td>1.00</td>\n",
       "      <td>1.00</td>\n",
       "      <td>1.00</td>\n",
       "      <td>1.00</td>\n",
       "      <td>1.00</td>\n",
       "      <td>1.00</td>\n",
       "      <td>1.00</td>\n",
       "      <td>1.00</td>\n",
       "      <td>1.00</td>\n",
       "      <td>1.00</td>\n",
       "      <td>1.00</td>\n",
       "      <td>1.00</td>\n",
       "      <td>1.00</td>\n",
       "      <td>1.00</td>\n",
       "      <td>1.00</td>\n",
       "      <td>1.00</td>\n",
       "      <td>1.00</td>\n",
       "      <td>1.00</td>\n",
       "      <td>1.00</td>\n",
       "      <td>1.00</td>\n",
       "      <td>1.00</td>\n",
       "      <td>1.00</td>\n",
       "      <td>1.00</td>\n",
       "      <td>1.00</td>\n",
       "    </tr>\n",
       "    <tr>\n",
       "      <th>min</th>\n",
       "      <td>-0.23</td>\n",
       "      <td>-1.63</td>\n",
       "      <td>-0.27</td>\n",
       "      <td>-2.16</td>\n",
       "      <td>-0.74</td>\n",
       "      <td>-0.71</td>\n",
       "      <td>-1.44</td>\n",
       "      <td>-0.66</td>\n",
       "      <td>-0.61</td>\n",
       "      <td>-0.29</td>\n",
       "      <td>-0.35</td>\n",
       "      <td>-2.82</td>\n",
       "      <td>-1.24</td>\n",
       "      <td>-0.83</td>\n",
       "      <td>-1.19</td>\n",
       "      <td>-0.57</td>\n",
       "      <td>-0.50</td>\n",
       "      <td>-0.41</td>\n",
       "      <td>-0.49</td>\n",
       "      <td>-0.51</td>\n",
       "      <td>-0.59</td>\n",
       "      <td>-0.53</td>\n",
       "      <td>-0.31</td>\n",
       "      <td>-0.87</td>\n",
       "      <td>-0.60</td>\n",
       "      <td>-0.29</td>\n",
       "      <td>-0.26</td>\n",
       "      <td>-0.26</td>\n",
       "      <td>-1.98</td>\n",
       "      <td>-1.22</td>\n",
       "      <td>-0.82</td>\n",
       "      <td>-1.35</td>\n",
       "      <td>-0.58</td>\n",
       "      <td>-0.33</td>\n",
       "      <td>-1.13</td>\n",
       "      <td>-0.88</td>\n",
       "      <td>-1.88</td>\n",
       "      <td>-0.53</td>\n",
       "      <td>-1.13</td>\n",
       "      <td>-0.79</td>\n",
       "      <td>-0.24</td>\n",
       "      <td>-0.29</td>\n",
       "      <td>-0.34</td>\n",
       "      <td>-0.21</td>\n",
       "      <td>-0.37</td>\n",
       "      <td>-0.35</td>\n",
       "      <td>-0.29</td>\n",
       "      <td>-0.44</td>\n",
       "      <td>-0.30</td>\n",
       "      <td>-0.35</td>\n",
       "      <td>...</td>\n",
       "      <td>-0.61</td>\n",
       "      <td>-0.18</td>\n",
       "      <td>-0.19</td>\n",
       "      <td>-0.11</td>\n",
       "      <td>-0.08</td>\n",
       "      <td>-0.32</td>\n",
       "      <td>-0.08</td>\n",
       "      <td>-1.00</td>\n",
       "      <td>-0.22</td>\n",
       "      <td>-0.10</td>\n",
       "      <td>-0.15</td>\n",
       "      <td>-0.07</td>\n",
       "      <td>-0.10</td>\n",
       "      <td>-0.06</td>\n",
       "      <td>-0.20</td>\n",
       "      <td>-0.02</td>\n",
       "      <td>-0.14</td>\n",
       "      <td>-0.11</td>\n",
       "      <td>-0.14</td>\n",
       "      <td>-0.09</td>\n",
       "      <td>-0.27</td>\n",
       "      <td>-0.18</td>\n",
       "      <td>-0.14</td>\n",
       "      <td>-0.11</td>\n",
       "      <td>-0.12</td>\n",
       "      <td>-0.22</td>\n",
       "      <td>-0.08</td>\n",
       "      <td>-0.09</td>\n",
       "      <td>-0.22</td>\n",
       "      <td>-0.11</td>\n",
       "      <td>-0.17</td>\n",
       "      <td>-0.09</td>\n",
       "      <td>-0.14</td>\n",
       "      <td>-0.25</td>\n",
       "      <td>-1.01</td>\n",
       "      <td>-0.11</td>\n",
       "      <td>-0.06</td>\n",
       "      <td>-0.15</td>\n",
       "      <td>-0.10</td>\n",
       "      <td>-0.12</td>\n",
       "      <td>-0.12</td>\n",
       "      <td>-0.13</td>\n",
       "      <td>-0.12</td>\n",
       "      <td>-0.21</td>\n",
       "      <td>-0.14</td>\n",
       "      <td>-0.27</td>\n",
       "      <td>-0.10</td>\n",
       "      <td>-0.26</td>\n",
       "      <td>-0.92</td>\n",
       "      <td>-0.95</td>\n",
       "    </tr>\n",
       "    <tr>\n",
       "      <th>25%</th>\n",
       "      <td>-0.23</td>\n",
       "      <td>-1.63</td>\n",
       "      <td>-0.27</td>\n",
       "      <td>0.46</td>\n",
       "      <td>-0.74</td>\n",
       "      <td>-0.71</td>\n",
       "      <td>-1.44</td>\n",
       "      <td>-0.66</td>\n",
       "      <td>-0.61</td>\n",
       "      <td>-0.29</td>\n",
       "      <td>-0.35</td>\n",
       "      <td>-0.03</td>\n",
       "      <td>-0.51</td>\n",
       "      <td>-0.83</td>\n",
       "      <td>-1.19</td>\n",
       "      <td>-0.57</td>\n",
       "      <td>-0.50</td>\n",
       "      <td>-0.41</td>\n",
       "      <td>-0.49</td>\n",
       "      <td>-0.51</td>\n",
       "      <td>-0.59</td>\n",
       "      <td>-0.53</td>\n",
       "      <td>-0.31</td>\n",
       "      <td>-0.87</td>\n",
       "      <td>-0.60</td>\n",
       "      <td>-0.29</td>\n",
       "      <td>-0.26</td>\n",
       "      <td>-0.26</td>\n",
       "      <td>0.51</td>\n",
       "      <td>-1.22</td>\n",
       "      <td>-0.82</td>\n",
       "      <td>-1.35</td>\n",
       "      <td>-0.58</td>\n",
       "      <td>-0.33</td>\n",
       "      <td>-1.13</td>\n",
       "      <td>-0.88</td>\n",
       "      <td>0.53</td>\n",
       "      <td>-0.53</td>\n",
       "      <td>-1.13</td>\n",
       "      <td>-0.79</td>\n",
       "      <td>-0.24</td>\n",
       "      <td>-0.29</td>\n",
       "      <td>-0.34</td>\n",
       "      <td>-0.21</td>\n",
       "      <td>-0.37</td>\n",
       "      <td>-0.35</td>\n",
       "      <td>-0.29</td>\n",
       "      <td>-0.44</td>\n",
       "      <td>-0.30</td>\n",
       "      <td>-0.35</td>\n",
       "      <td>...</td>\n",
       "      <td>-0.61</td>\n",
       "      <td>-0.18</td>\n",
       "      <td>-0.19</td>\n",
       "      <td>-0.11</td>\n",
       "      <td>-0.08</td>\n",
       "      <td>-0.32</td>\n",
       "      <td>-0.08</td>\n",
       "      <td>-1.00</td>\n",
       "      <td>-0.22</td>\n",
       "      <td>-0.10</td>\n",
       "      <td>-0.15</td>\n",
       "      <td>-0.07</td>\n",
       "      <td>-0.10</td>\n",
       "      <td>-0.06</td>\n",
       "      <td>-0.20</td>\n",
       "      <td>-0.02</td>\n",
       "      <td>-0.14</td>\n",
       "      <td>-0.11</td>\n",
       "      <td>-0.14</td>\n",
       "      <td>-0.09</td>\n",
       "      <td>-0.27</td>\n",
       "      <td>-0.18</td>\n",
       "      <td>-0.14</td>\n",
       "      <td>-0.11</td>\n",
       "      <td>-0.12</td>\n",
       "      <td>-0.22</td>\n",
       "      <td>-0.08</td>\n",
       "      <td>-0.09</td>\n",
       "      <td>-0.22</td>\n",
       "      <td>-0.11</td>\n",
       "      <td>-0.17</td>\n",
       "      <td>-0.09</td>\n",
       "      <td>-0.14</td>\n",
       "      <td>-0.25</td>\n",
       "      <td>-1.01</td>\n",
       "      <td>-0.11</td>\n",
       "      <td>-0.06</td>\n",
       "      <td>-0.15</td>\n",
       "      <td>-0.10</td>\n",
       "      <td>-0.12</td>\n",
       "      <td>-0.12</td>\n",
       "      <td>-0.13</td>\n",
       "      <td>-0.12</td>\n",
       "      <td>-0.21</td>\n",
       "      <td>-0.14</td>\n",
       "      <td>-0.27</td>\n",
       "      <td>-0.10</td>\n",
       "      <td>-0.26</td>\n",
       "      <td>-0.92</td>\n",
       "      <td>-0.95</td>\n",
       "    </tr>\n",
       "    <tr>\n",
       "      <th>50%</th>\n",
       "      <td>-0.23</td>\n",
       "      <td>0.61</td>\n",
       "      <td>-0.27</td>\n",
       "      <td>0.46</td>\n",
       "      <td>-0.74</td>\n",
       "      <td>-0.71</td>\n",
       "      <td>0.69</td>\n",
       "      <td>-0.66</td>\n",
       "      <td>-0.61</td>\n",
       "      <td>-0.29</td>\n",
       "      <td>-0.35</td>\n",
       "      <td>-0.03</td>\n",
       "      <td>-0.51</td>\n",
       "      <td>-0.07</td>\n",
       "      <td>0.15</td>\n",
       "      <td>-0.57</td>\n",
       "      <td>-0.50</td>\n",
       "      <td>-0.41</td>\n",
       "      <td>-0.49</td>\n",
       "      <td>-0.51</td>\n",
       "      <td>-0.59</td>\n",
       "      <td>-0.53</td>\n",
       "      <td>-0.31</td>\n",
       "      <td>-0.87</td>\n",
       "      <td>-0.60</td>\n",
       "      <td>-0.29</td>\n",
       "      <td>-0.26</td>\n",
       "      <td>-0.26</td>\n",
       "      <td>0.51</td>\n",
       "      <td>0.82</td>\n",
       "      <td>-0.82</td>\n",
       "      <td>0.74</td>\n",
       "      <td>-0.58</td>\n",
       "      <td>-0.33</td>\n",
       "      <td>0.88</td>\n",
       "      <td>-0.88</td>\n",
       "      <td>0.53</td>\n",
       "      <td>-0.53</td>\n",
       "      <td>0.88</td>\n",
       "      <td>-0.79</td>\n",
       "      <td>-0.24</td>\n",
       "      <td>-0.29</td>\n",
       "      <td>-0.34</td>\n",
       "      <td>-0.21</td>\n",
       "      <td>-0.37</td>\n",
       "      <td>-0.35</td>\n",
       "      <td>-0.29</td>\n",
       "      <td>-0.44</td>\n",
       "      <td>-0.30</td>\n",
       "      <td>-0.35</td>\n",
       "      <td>...</td>\n",
       "      <td>-0.61</td>\n",
       "      <td>-0.18</td>\n",
       "      <td>-0.19</td>\n",
       "      <td>-0.11</td>\n",
       "      <td>-0.08</td>\n",
       "      <td>-0.32</td>\n",
       "      <td>-0.08</td>\n",
       "      <td>-1.00</td>\n",
       "      <td>-0.22</td>\n",
       "      <td>-0.10</td>\n",
       "      <td>-0.15</td>\n",
       "      <td>-0.07</td>\n",
       "      <td>-0.10</td>\n",
       "      <td>-0.06</td>\n",
       "      <td>-0.20</td>\n",
       "      <td>-0.02</td>\n",
       "      <td>-0.14</td>\n",
       "      <td>-0.11</td>\n",
       "      <td>-0.14</td>\n",
       "      <td>-0.09</td>\n",
       "      <td>-0.27</td>\n",
       "      <td>-0.18</td>\n",
       "      <td>-0.14</td>\n",
       "      <td>-0.11</td>\n",
       "      <td>-0.12</td>\n",
       "      <td>-0.22</td>\n",
       "      <td>-0.08</td>\n",
       "      <td>-0.09</td>\n",
       "      <td>-0.22</td>\n",
       "      <td>-0.11</td>\n",
       "      <td>-0.17</td>\n",
       "      <td>-0.09</td>\n",
       "      <td>-0.14</td>\n",
       "      <td>-0.25</td>\n",
       "      <td>0.99</td>\n",
       "      <td>-0.11</td>\n",
       "      <td>-0.06</td>\n",
       "      <td>-0.15</td>\n",
       "      <td>-0.10</td>\n",
       "      <td>-0.12</td>\n",
       "      <td>-0.12</td>\n",
       "      <td>-0.13</td>\n",
       "      <td>-0.12</td>\n",
       "      <td>-0.21</td>\n",
       "      <td>-0.14</td>\n",
       "      <td>-0.27</td>\n",
       "      <td>-0.10</td>\n",
       "      <td>-0.26</td>\n",
       "      <td>-0.92</td>\n",
       "      <td>-0.95</td>\n",
       "    </tr>\n",
       "    <tr>\n",
       "      <th>75%</th>\n",
       "      <td>-0.23</td>\n",
       "      <td>0.61</td>\n",
       "      <td>-0.27</td>\n",
       "      <td>0.46</td>\n",
       "      <td>1.34</td>\n",
       "      <td>1.40</td>\n",
       "      <td>0.69</td>\n",
       "      <td>1.51</td>\n",
       "      <td>1.63</td>\n",
       "      <td>-0.29</td>\n",
       "      <td>-0.35</td>\n",
       "      <td>0.90</td>\n",
       "      <td>0.94</td>\n",
       "      <td>-0.07</td>\n",
       "      <td>0.15</td>\n",
       "      <td>0.51</td>\n",
       "      <td>-0.50</td>\n",
       "      <td>-0.41</td>\n",
       "      <td>-0.49</td>\n",
       "      <td>-0.51</td>\n",
       "      <td>1.70</td>\n",
       "      <td>-0.53</td>\n",
       "      <td>-0.31</td>\n",
       "      <td>1.15</td>\n",
       "      <td>1.66</td>\n",
       "      <td>-0.29</td>\n",
       "      <td>-0.26</td>\n",
       "      <td>-0.26</td>\n",
       "      <td>0.51</td>\n",
       "      <td>0.82</td>\n",
       "      <td>1.22</td>\n",
       "      <td>0.74</td>\n",
       "      <td>1.71</td>\n",
       "      <td>-0.33</td>\n",
       "      <td>0.88</td>\n",
       "      <td>1.13</td>\n",
       "      <td>0.53</td>\n",
       "      <td>-0.53</td>\n",
       "      <td>0.88</td>\n",
       "      <td>1.27</td>\n",
       "      <td>-0.24</td>\n",
       "      <td>-0.29</td>\n",
       "      <td>-0.34</td>\n",
       "      <td>-0.21</td>\n",
       "      <td>-0.37</td>\n",
       "      <td>-0.35</td>\n",
       "      <td>-0.29</td>\n",
       "      <td>-0.44</td>\n",
       "      <td>-0.30</td>\n",
       "      <td>-0.35</td>\n",
       "      <td>...</td>\n",
       "      <td>1.64</td>\n",
       "      <td>-0.18</td>\n",
       "      <td>-0.19</td>\n",
       "      <td>-0.11</td>\n",
       "      <td>-0.08</td>\n",
       "      <td>-0.32</td>\n",
       "      <td>-0.08</td>\n",
       "      <td>1.00</td>\n",
       "      <td>-0.22</td>\n",
       "      <td>-0.10</td>\n",
       "      <td>-0.15</td>\n",
       "      <td>-0.07</td>\n",
       "      <td>-0.10</td>\n",
       "      <td>-0.06</td>\n",
       "      <td>-0.20</td>\n",
       "      <td>-0.02</td>\n",
       "      <td>-0.14</td>\n",
       "      <td>-0.11</td>\n",
       "      <td>-0.14</td>\n",
       "      <td>-0.09</td>\n",
       "      <td>-0.27</td>\n",
       "      <td>-0.18</td>\n",
       "      <td>-0.14</td>\n",
       "      <td>-0.11</td>\n",
       "      <td>-0.12</td>\n",
       "      <td>-0.22</td>\n",
       "      <td>-0.08</td>\n",
       "      <td>-0.09</td>\n",
       "      <td>-0.22</td>\n",
       "      <td>-0.11</td>\n",
       "      <td>-0.17</td>\n",
       "      <td>-0.09</td>\n",
       "      <td>-0.14</td>\n",
       "      <td>-0.25</td>\n",
       "      <td>0.99</td>\n",
       "      <td>-0.11</td>\n",
       "      <td>-0.06</td>\n",
       "      <td>-0.15</td>\n",
       "      <td>-0.10</td>\n",
       "      <td>-0.12</td>\n",
       "      <td>-0.12</td>\n",
       "      <td>-0.13</td>\n",
       "      <td>-0.12</td>\n",
       "      <td>-0.21</td>\n",
       "      <td>-0.14</td>\n",
       "      <td>-0.27</td>\n",
       "      <td>-0.10</td>\n",
       "      <td>-0.26</td>\n",
       "      <td>1.08</td>\n",
       "      <td>1.05</td>\n",
       "    </tr>\n",
       "    <tr>\n",
       "      <th>max</th>\n",
       "      <td>4.42</td>\n",
       "      <td>0.61</td>\n",
       "      <td>3.65</td>\n",
       "      <td>0.46</td>\n",
       "      <td>1.34</td>\n",
       "      <td>1.40</td>\n",
       "      <td>0.69</td>\n",
       "      <td>1.51</td>\n",
       "      <td>1.63</td>\n",
       "      <td>3.40</td>\n",
       "      <td>2.84</td>\n",
       "      <td>0.90</td>\n",
       "      <td>1.67</td>\n",
       "      <td>2.18</td>\n",
       "      <td>2.83</td>\n",
       "      <td>2.66</td>\n",
       "      <td>2.02</td>\n",
       "      <td>2.45</td>\n",
       "      <td>2.04</td>\n",
       "      <td>1.94</td>\n",
       "      <td>1.70</td>\n",
       "      <td>1.90</td>\n",
       "      <td>3.22</td>\n",
       "      <td>1.15</td>\n",
       "      <td>1.66</td>\n",
       "      <td>3.47</td>\n",
       "      <td>3.79</td>\n",
       "      <td>3.90</td>\n",
       "      <td>0.51</td>\n",
       "      <td>0.82</td>\n",
       "      <td>1.22</td>\n",
       "      <td>0.74</td>\n",
       "      <td>1.71</td>\n",
       "      <td>3.01</td>\n",
       "      <td>0.88</td>\n",
       "      <td>1.13</td>\n",
       "      <td>0.53</td>\n",
       "      <td>1.88</td>\n",
       "      <td>0.88</td>\n",
       "      <td>1.27</td>\n",
       "      <td>4.18</td>\n",
       "      <td>3.49</td>\n",
       "      <td>2.92</td>\n",
       "      <td>4.75</td>\n",
       "      <td>2.68</td>\n",
       "      <td>2.87</td>\n",
       "      <td>3.43</td>\n",
       "      <td>2.30</td>\n",
       "      <td>3.33</td>\n",
       "      <td>2.87</td>\n",
       "      <td>...</td>\n",
       "      <td>1.64</td>\n",
       "      <td>5.50</td>\n",
       "      <td>5.19</td>\n",
       "      <td>9.10</td>\n",
       "      <td>12.05</td>\n",
       "      <td>3.10</td>\n",
       "      <td>13.05</td>\n",
       "      <td>1.00</td>\n",
       "      <td>4.52</td>\n",
       "      <td>9.96</td>\n",
       "      <td>6.52</td>\n",
       "      <td>14.56</td>\n",
       "      <td>9.74</td>\n",
       "      <td>16.65</td>\n",
       "      <td>4.94</td>\n",
       "      <td>42.66</td>\n",
       "      <td>7.09</td>\n",
       "      <td>8.81</td>\n",
       "      <td>7.08</td>\n",
       "      <td>11.32</td>\n",
       "      <td>3.75</td>\n",
       "      <td>5.47</td>\n",
       "      <td>7.20</td>\n",
       "      <td>8.88</td>\n",
       "      <td>8.69</td>\n",
       "      <td>4.46</td>\n",
       "      <td>13.05</td>\n",
       "      <td>10.74</td>\n",
       "      <td>4.50</td>\n",
       "      <td>9.34</td>\n",
       "      <td>5.78</td>\n",
       "      <td>11.75</td>\n",
       "      <td>7.36</td>\n",
       "      <td>4.07</td>\n",
       "      <td>0.99</td>\n",
       "      <td>8.86</td>\n",
       "      <td>16.77</td>\n",
       "      <td>6.88</td>\n",
       "      <td>9.65</td>\n",
       "      <td>8.40</td>\n",
       "      <td>8.43</td>\n",
       "      <td>7.64</td>\n",
       "      <td>8.67</td>\n",
       "      <td>4.86</td>\n",
       "      <td>7.28</td>\n",
       "      <td>3.77</td>\n",
       "      <td>10.22</td>\n",
       "      <td>3.82</td>\n",
       "      <td>1.08</td>\n",
       "      <td>1.05</td>\n",
       "    </tr>\n",
       "  </tbody>\n",
       "</table>\n",
       "<p>8 rows × 103 columns</p>\n",
       "</div>"
      ],
      "text/plain": [
       "           0        1        2        3        4        5        6        7    \\\n",
       "count 20030.00 20030.00 20030.00 20030.00 20030.00 20030.00 20030.00 20030.00   \n",
       "mean     -0.00     0.00    -0.00     0.00     0.00    -0.00    -0.00    -0.00   \n",
       "std       1.00     1.00     1.00     1.00     1.00     1.00     1.00     1.00   \n",
       "min      -0.23    -1.63    -0.27    -2.16    -0.74    -0.71    -1.44    -0.66   \n",
       "25%      -0.23    -1.63    -0.27     0.46    -0.74    -0.71    -1.44    -0.66   \n",
       "50%      -0.23     0.61    -0.27     0.46    -0.74    -0.71     0.69    -0.66   \n",
       "75%      -0.23     0.61    -0.27     0.46     1.34     1.40     0.69     1.51   \n",
       "max       4.42     0.61     3.65     0.46     1.34     1.40     0.69     1.51   \n",
       "\n",
       "           8        9        10       11       12       13       14       15   \\\n",
       "count 20030.00 20030.00 20030.00 20030.00 20030.00 20030.00 20030.00 20030.00   \n",
       "mean      0.00     0.00     0.00     0.00    -0.00     0.00    -0.00     0.00   \n",
       "std       1.00     1.00     1.00     1.00     1.00     1.00     1.00     1.00   \n",
       "min      -0.61    -0.29    -0.35    -2.82    -1.24    -0.83    -1.19    -0.57   \n",
       "25%      -0.61    -0.29    -0.35    -0.03    -0.51    -0.83    -1.19    -0.57   \n",
       "50%      -0.61    -0.29    -0.35    -0.03    -0.51    -0.07     0.15    -0.57   \n",
       "75%       1.63    -0.29    -0.35     0.90     0.94    -0.07     0.15     0.51   \n",
       "max       1.63     3.40     2.84     0.90     1.67     2.18     2.83     2.66   \n",
       "\n",
       "           16       17       18       19       20       21       22       23   \\\n",
       "count 20030.00 20030.00 20030.00 20030.00 20030.00 20030.00 20030.00 20030.00   \n",
       "mean     -0.00     0.00    -0.00    -0.00    -0.00    -0.00     0.00     0.00   \n",
       "std       1.00     1.00     1.00     1.00     1.00     1.00     1.00     1.00   \n",
       "min      -0.50    -0.41    -0.49    -0.51    -0.59    -0.53    -0.31    -0.87   \n",
       "25%      -0.50    -0.41    -0.49    -0.51    -0.59    -0.53    -0.31    -0.87   \n",
       "50%      -0.50    -0.41    -0.49    -0.51    -0.59    -0.53    -0.31    -0.87   \n",
       "75%      -0.50    -0.41    -0.49    -0.51     1.70    -0.53    -0.31     1.15   \n",
       "max       2.02     2.45     2.04     1.94     1.70     1.90     3.22     1.15   \n",
       "\n",
       "           24       25       26       27       28       29       30       31   \\\n",
       "count 20030.00 20030.00 20030.00 20030.00 20030.00 20030.00 20030.00 20030.00   \n",
       "mean     -0.00    -0.00     0.00    -0.00    -0.00    -0.00     0.00    -0.00   \n",
       "std       1.00     1.00     1.00     1.00     1.00     1.00     1.00     1.00   \n",
       "min      -0.60    -0.29    -0.26    -0.26    -1.98    -1.22    -0.82    -1.35   \n",
       "25%      -0.60    -0.29    -0.26    -0.26     0.51    -1.22    -0.82    -1.35   \n",
       "50%      -0.60    -0.29    -0.26    -0.26     0.51     0.82    -0.82     0.74   \n",
       "75%       1.66    -0.29    -0.26    -0.26     0.51     0.82     1.22     0.74   \n",
       "max       1.66     3.47     3.79     3.90     0.51     0.82     1.22     0.74   \n",
       "\n",
       "           32       33       34       35       36       37       38       39   \\\n",
       "count 20030.00 20030.00 20030.00 20030.00 20030.00 20030.00 20030.00 20030.00   \n",
       "mean     -0.00     0.00    -0.00     0.00    -0.00     0.00     0.00     0.00   \n",
       "std       1.00     1.00     1.00     1.00     1.00     1.00     1.00     1.00   \n",
       "min      -0.58    -0.33    -1.13    -0.88    -1.88    -0.53    -1.13    -0.79   \n",
       "25%      -0.58    -0.33    -1.13    -0.88     0.53    -0.53    -1.13    -0.79   \n",
       "50%      -0.58    -0.33     0.88    -0.88     0.53    -0.53     0.88    -0.79   \n",
       "75%       1.71    -0.33     0.88     1.13     0.53    -0.53     0.88     1.27   \n",
       "max       1.71     3.01     0.88     1.13     0.53     1.88     0.88     1.27   \n",
       "\n",
       "           40       41       42       43       44       45       46       47   \\\n",
       "count 20030.00 20030.00 20030.00 20030.00 20030.00 20030.00 20030.00 20030.00   \n",
       "mean      0.00    -0.00    -0.00     0.00     0.00    -0.00     0.00    -0.00   \n",
       "std       1.00     1.00     1.00     1.00     1.00     1.00     1.00     1.00   \n",
       "min      -0.24    -0.29    -0.34    -0.21    -0.37    -0.35    -0.29    -0.44   \n",
       "25%      -0.24    -0.29    -0.34    -0.21    -0.37    -0.35    -0.29    -0.44   \n",
       "50%      -0.24    -0.29    -0.34    -0.21    -0.37    -0.35    -0.29    -0.44   \n",
       "75%      -0.24    -0.29    -0.34    -0.21    -0.37    -0.35    -0.29    -0.44   \n",
       "max       4.18     3.49     2.92     4.75     2.68     2.87     3.43     2.30   \n",
       "\n",
       "           48       49   ...      53       54       55       56       57   \\\n",
       "count 20030.00 20030.00  ... 20030.00 20030.00 20030.00 20030.00 20030.00   \n",
       "mean      0.00     0.00  ...     0.00    -0.00     0.00     0.00     0.00   \n",
       "std       1.00     1.00  ...     1.00     1.00     1.00     1.00     1.00   \n",
       "min      -0.30    -0.35  ...    -0.61    -0.18    -0.19    -0.11    -0.08   \n",
       "25%      -0.30    -0.35  ...    -0.61    -0.18    -0.19    -0.11    -0.08   \n",
       "50%      -0.30    -0.35  ...    -0.61    -0.18    -0.19    -0.11    -0.08   \n",
       "75%      -0.30    -0.35  ...     1.64    -0.18    -0.19    -0.11    -0.08   \n",
       "max       3.33     2.87  ...     1.64     5.50     5.19     9.10    12.05   \n",
       "\n",
       "           58       59       60       61       62       63       64       65   \\\n",
       "count 20030.00 20030.00 20030.00 20030.00 20030.00 20030.00 20030.00 20030.00   \n",
       "mean      0.00    -0.00     0.00     0.00    -0.00    -0.00    -0.00    -0.00   \n",
       "std       1.00     1.00     1.00     1.00     1.00     1.00     1.00     1.00   \n",
       "min      -0.32    -0.08    -1.00    -0.22    -0.10    -0.15    -0.07    -0.10   \n",
       "25%      -0.32    -0.08    -1.00    -0.22    -0.10    -0.15    -0.07    -0.10   \n",
       "50%      -0.32    -0.08    -1.00    -0.22    -0.10    -0.15    -0.07    -0.10   \n",
       "75%      -0.32    -0.08     1.00    -0.22    -0.10    -0.15    -0.07    -0.10   \n",
       "max       3.10    13.05     1.00     4.52     9.96     6.52    14.56     9.74   \n",
       "\n",
       "           66       67       68       69       70       71       72       73   \\\n",
       "count 20030.00 20030.00 20030.00 20030.00 20030.00 20030.00 20030.00 20030.00   \n",
       "mean      0.00     0.00    -0.00     0.00     0.00    -0.00    -0.00    -0.00   \n",
       "std       1.00     1.00     1.00     1.00     1.00     1.00     1.00     1.00   \n",
       "min      -0.06    -0.20    -0.02    -0.14    -0.11    -0.14    -0.09    -0.27   \n",
       "25%      -0.06    -0.20    -0.02    -0.14    -0.11    -0.14    -0.09    -0.27   \n",
       "50%      -0.06    -0.20    -0.02    -0.14    -0.11    -0.14    -0.09    -0.27   \n",
       "75%      -0.06    -0.20    -0.02    -0.14    -0.11    -0.14    -0.09    -0.27   \n",
       "max      16.65     4.94    42.66     7.09     8.81     7.08    11.32     3.75   \n",
       "\n",
       "           74       75       76       77       78       79       80       81   \\\n",
       "count 20030.00 20030.00 20030.00 20030.00 20030.00 20030.00 20030.00 20030.00   \n",
       "mean     -0.00     0.00     0.00    -0.00    -0.00    -0.00    -0.00    -0.00   \n",
       "std       1.00     1.00     1.00     1.00     1.00     1.00     1.00     1.00   \n",
       "min      -0.18    -0.14    -0.11    -0.12    -0.22    -0.08    -0.09    -0.22   \n",
       "25%      -0.18    -0.14    -0.11    -0.12    -0.22    -0.08    -0.09    -0.22   \n",
       "50%      -0.18    -0.14    -0.11    -0.12    -0.22    -0.08    -0.09    -0.22   \n",
       "75%      -0.18    -0.14    -0.11    -0.12    -0.22    -0.08    -0.09    -0.22   \n",
       "max       5.47     7.20     8.88     8.69     4.46    13.05    10.74     4.50   \n",
       "\n",
       "           82       83       84       85       86       87       88       89   \\\n",
       "count 20030.00 20030.00 20030.00 20030.00 20030.00 20030.00 20030.00 20030.00   \n",
       "mean      0.00    -0.00    -0.00     0.00    -0.00     0.00    -0.00    -0.00   \n",
       "std       1.00     1.00     1.00     1.00     1.00     1.00     1.00     1.00   \n",
       "min      -0.11    -0.17    -0.09    -0.14    -0.25    -1.01    -0.11    -0.06   \n",
       "25%      -0.11    -0.17    -0.09    -0.14    -0.25    -1.01    -0.11    -0.06   \n",
       "50%      -0.11    -0.17    -0.09    -0.14    -0.25     0.99    -0.11    -0.06   \n",
       "75%      -0.11    -0.17    -0.09    -0.14    -0.25     0.99    -0.11    -0.06   \n",
       "max       9.34     5.78    11.75     7.36     4.07     0.99     8.86    16.77   \n",
       "\n",
       "           90       91       92       93       94       95       96       97   \\\n",
       "count 20030.00 20030.00 20030.00 20030.00 20030.00 20030.00 20030.00 20030.00   \n",
       "mean     -0.00    -0.00     0.00     0.00     0.00     0.00     0.00     0.00   \n",
       "std       1.00     1.00     1.00     1.00     1.00     1.00     1.00     1.00   \n",
       "min      -0.15    -0.10    -0.12    -0.12    -0.13    -0.12    -0.21    -0.14   \n",
       "25%      -0.15    -0.10    -0.12    -0.12    -0.13    -0.12    -0.21    -0.14   \n",
       "50%      -0.15    -0.10    -0.12    -0.12    -0.13    -0.12    -0.21    -0.14   \n",
       "75%      -0.15    -0.10    -0.12    -0.12    -0.13    -0.12    -0.21    -0.14   \n",
       "max       6.88     9.65     8.40     8.43     7.64     8.67     4.86     7.28   \n",
       "\n",
       "           98       99       100      101      102  \n",
       "count 20030.00 20030.00 20030.00 20030.00 20030.00  \n",
       "mean      0.00     0.00     0.00    -0.00    -0.00  \n",
       "std       1.00     1.00     1.00     1.00     1.00  \n",
       "min      -0.27    -0.10    -0.26    -0.92    -0.95  \n",
       "25%      -0.27    -0.10    -0.26    -0.92    -0.95  \n",
       "50%      -0.27    -0.10    -0.26    -0.92    -0.95  \n",
       "75%      -0.27    -0.10    -0.26     1.08     1.05  \n",
       "max       3.77    10.22     3.82     1.08     1.05  \n",
       "\n",
       "[8 rows x 103 columns]"
      ]
     },
     "metadata": {},
     "output_type": "display_data"
    }
   ],
   "source": [
    "print(f\"Number of nulls: {tmp.isna().sum().sum()}\")\n",
    "display(tmp.describe())"
   ]
  },
  {
   "cell_type": "markdown",
   "metadata": {},
   "source": [
    "# Prepare to run models"
   ]
  },
  {
   "cell_type": "code",
   "execution_count": 17,
   "metadata": {},
   "outputs": [],
   "source": [
    "# initialize lists to store model outputs\n",
    "models = []\n",
    "results = []\n",
    "names = []\n",
    "scoring=\"roc_auc\""
   ]
  },
  {
   "cell_type": "code",
   "execution_count": 18,
   "metadata": {},
   "outputs": [],
   "source": [
    "### This class came from Lecture 51\n",
    "class ModelWithCV():\n",
    "    '''Structure to save the model and more easily see its crossvalidation'''\n",
    "    \n",
    "    def __init__(self, model, model_name, X, y, cv_now=True, scoring=\"accuracy\"):\n",
    "        self.model = model\n",
    "        self.name = model_name\n",
    "        self.X = X\n",
    "        self.y = y\n",
    "        # For CV results\n",
    "        self.cv_results = None\n",
    "        self.cv_mean = None\n",
    "        self.cv_median = None\n",
    "        self.cv_std = None\n",
    "        #\n",
    "        if cv_now:\n",
    "            self.cross_validate()\n",
    "        \n",
    "    def cross_validate(self, X=None, y=None, kfolds=10):\n",
    "        '''\n",
    "        Perform cross-validation and return results.\n",
    "        \n",
    "        Args: \n",
    "          X:\n",
    "            Optional; Training data to perform CV on. Otherwise use X from object\n",
    "          y:\n",
    "            Optional; Training data to perform CV on. Otherwise use y from object\n",
    "          kfolds:\n",
    "            Optional; Number of folds for CV (default is 10)  \n",
    "        '''\n",
    "        \n",
    "        cv_X = X if X else self.X\n",
    "        cv_y = y if y else self.y\n",
    "\n",
    "        self.cv_results = cross_val_score(self.model, cv_X, cv_y, cv=kfolds, scoring=scoring)\n",
    "        self.cv_mean = np.mean(self.cv_results)\n",
    "        self.cv_median = np.median(self.cv_results)\n",
    "        self.cv_std = np.std(self.cv_results)\n",
    "\n",
    "        \n",
    "    def print_cv_summary(self):\n",
    "        cv_summary = (\n",
    "        f'''CV Results for `{self.name}` model:\n",
    "            {self.cv_mean:.5f} ± {self.cv_std:.5f} {scoring}\n",
    "        ''')\n",
    "        print(cv_summary)\n",
    "\n",
    "        \n",
    "    def plot_cv(self, ax):\n",
    "        '''\n",
    "        Plot the cross-validation values using the array of results and given \n",
    "        Axis for plotting.\n",
    "        '''\n",
    "        ax.set_title(f'CV Results for `{self.name}` Model')\n",
    "        # Thinner violinplot with higher bw\n",
    "        sns.violinplot(y=self.cv_results, ax=ax, bw=.4)\n",
    "        sns.swarmplot(\n",
    "                y=self.cv_results,\n",
    "                color='orange',\n",
    "                size=10,\n",
    "                alpha= 0.8,\n",
    "                ax=ax\n",
    "        )\n",
    "\n",
    "        return ax"
   ]
  },
  {
   "cell_type": "markdown",
   "metadata": {},
   "source": [
    "# DummyClassifier model"
   ]
  },
  {
   "cell_type": "code",
   "execution_count": 19,
   "metadata": {},
   "outputs": [],
   "source": [
    "dummy_model_pipe = Pipeline(steps=[\n",
    "    ('ct',ct),\n",
    "    ('dum_class', DummyClassifier(strategy='most_frequent', ))\n",
    "])\n",
    "dummy_cv = ModelWithCV(dummy_model_pipe, model_name='dummy_model_pipe', X=X_train, y=y_train, scoring=scoring)"
   ]
  },
  {
   "cell_type": "code",
   "execution_count": 20,
   "metadata": {},
   "outputs": [
    {
     "name": "stdout",
     "output_type": "stream",
     "text": [
      "CV Results for `dummy_model_pipe` model:\n",
      "            0.50000 ± 0.00000 roc_auc\n",
      "        \n"
     ]
    },
    {
     "data": {
      "image/png": "[encoded data removed]",
      "text/plain": [
       "<Figure size 432x288 with 1 Axes>"
      ]
     },
     "metadata": {
      "needs_background": "light"
     },
     "output_type": "display_data"
    }
   ],
   "source": [
    "dummy_cv.print_cv_summary()\n",
    "fig, ax = plt.subplots()\n",
    "\n",
    "dummy_cv.plot_cv(ax=ax);"
   ]
  },
  {
   "cell_type": "markdown",
   "metadata": {},
   "source": [
    "# Random Forest Classifier"
   ]
  },
  {
   "cell_type": "code",
   "execution_count": 21,
   "metadata": {},
   "outputs": [],
   "source": [
    "rfc = RandomForestClassifier()\n",
    "\n",
    "rfc_model_pipe = Pipeline([\n",
    "    ('ct', ct),\n",
    "    ('rfc', rfc)\n",
    "])"
   ]
  },
  {
   "cell_type": "code",
   "execution_count": 22,
   "metadata": {},
   "outputs": [],
   "source": [
    "rfc_defaults_cv = ModelWithCV(rfc_model_pipe, model_name='rfc_defaults_model_pipe', X=X_train, y=y_train, scoring=scoring)"
   ]
  },
  {
   "cell_type": "code",
   "execution_count": 23,
   "metadata": {},
   "outputs": [
    {
     "name": "stdout",
     "output_type": "stream",
     "text": [
      "CV Results for `rfc_defaults_model_pipe` model:\n",
      "            0.84695 ± 0.01094 roc_auc\n",
      "        \n"
     ]
    },
    {
     "data": {
      "image/png": "[encoded data removed]",
      "text/plain": [
       "<Figure size 432x288 with 1 Axes>"
      ]
     },
     "metadata": {
      "needs_background": "light"
     },
     "output_type": "display_data"
    }
   ],
   "source": [
    "rfc_defaults_cv.print_cv_summary()\n",
    "\n",
    "fig, ax = plt.subplots()\n",
    "rfc_defaults_cv.plot_cv(ax=ax);"
   ]
  },
  {
   "cell_type": "markdown",
   "metadata": {},
   "source": [
    "## GridSearchCV on Random Forest Classifier"
   ]
  },
  {
   "cell_type": "code",
   "execution_count": 24,
   "metadata": {},
   "outputs": [],
   "source": [
    "params = {\n",
    "    'rfc__n_estimators': [500, 750, 1000]\n",
    "    ,'rfc__max_depth': [5, 15, 25]\n",
    "    ,'rfc__max_features': [5, 15, 25]\n",
    "    ,'rfc__min_samples_leaf': [1, 3, 5]\n",
    "    ,'rfc__min_samples_split': [4, 8, 12]\n",
    "}"
   ]
  },
  {
   "cell_type": "code",
   "execution_count": 25,
   "metadata": {},
   "outputs": [
    {
     "name": "stdout",
     "output_type": "stream",
     "text": [
      "CPU times: user 42.9 s, sys: 1.18 s, total: 44.1 s\n",
      "Wall time: 1h 6min 7s\n"
     ]
    },
    {
     "data": {
      "text/plain": [
       "GridSearchCV(cv=5,\n",
       "             estimator=Pipeline(steps=[('ct',\n",
       "                                        ColumnTransformer(transformers=[('subpipe_num',\n",
       "                                                                         Pipeline(steps=[('get_num',\n",
       "                                                                                          FunctionTransformer(func=<function grab_numeric at 0x7fb64e09f4c0>)),\n",
       "                                                                                         ('num_impute',\n",
       "                                                                                          SimpleImputer(strategy='most_frequent')),\n",
       "                                                                                         ('ss',\n",
       "                                                                                          StandardScaler())]),\n",
       "                                                                         Index(['behavioral_antiviral_meds', 'behavioral_avoidance',\n",
       "       'behavioral_face_mask...\n",
       "       'hhs_geo_region', 'census_msa', 'household_adults',\n",
       "       'household_children', 'employment_industry', 'employment_occupation',\n",
       "       'health_insurance_cat'],\n",
       "      dtype='object'))])),\n",
       "                                       ('rfc', RandomForestClassifier())]),\n",
       "             n_jobs=-2,\n",
       "             param_grid={'rfc__max_depth': [5, 15, 25],\n",
       "                         'rfc__max_features': [5, 15, 25],\n",
       "                         'rfc__min_samples_leaf': [1, 3, 5],\n",
       "                         'rfc__min_samples_split': [4, 8, 12],\n",
       "                         'rfc__n_estimators': [500, 750, 1000]},\n",
       "             scoring='roc_auc')"
      ]
     },
     "execution_count": 25,
     "metadata": {},
     "output_type": "execute_result"
    }
   ],
   "source": [
    "%%time\n",
    "rfc_gs_cv1 = GridSearchCV(estimator=rfc_model_pipe, scoring=scoring, param_grid=params, cv=5, n_jobs=-2)\n",
    "rfc_gs_cv1.fit(X_train,y_train)"
   ]
  },
  {
   "cell_type": "code",
   "execution_count": 26,
   "metadata": {},
   "outputs": [
    {
     "data": {
      "text/plain": [
       "{'rfc__max_depth': 15,\n",
       " 'rfc__max_features': 15,\n",
       " 'rfc__min_samples_leaf': 3,\n",
       " 'rfc__min_samples_split': 12,\n",
       " 'rfc__n_estimators': 1000}"
      ]
     },
     "execution_count": 26,
     "metadata": {},
     "output_type": "execute_result"
    }
   ],
   "source": [
    "rfc_gs_cv1.best_params_"
   ]
  },
  {
   "cell_type": "code",
   "execution_count": 27,
   "metadata": {},
   "outputs": [
    {
     "data": {
      "text/plain": [
       "0.8548741229300992"
      ]
     },
     "execution_count": 27,
     "metadata": {},
     "output_type": "execute_result"
    }
   ],
   "source": [
    "rfc_gs_cv1.best_score_"
   ]
  },
  {
   "cell_type": "code",
   "execution_count": 28,
   "metadata": {},
   "outputs": [],
   "source": [
    "import pickle\n",
    "# save the model to disk\n",
    "filename = '/Users/gburgess/Documents/Flatiron/projects/project3/Predicting_Vaccinations/data/rfc_gs_cv1_model.sav'\n",
    "pickle.dump(rfc_gs_cv1, open(filename, 'wb'))"
   ]
  },
  {
   "cell_type": "markdown",
   "metadata": {},
   "source": [
    "### Improve RandomForest hyperparameters with second GridSearchCV\n",
    "We have a set of good hyperparameters from the first grid search. Now, starting with those results, we can narrow down the grid a bit more to improve the model some."
   ]
  },
  {
   "cell_type": "code",
   "execution_count": 56,
   "metadata": {},
   "outputs": [],
   "source": [
    "params = {\n",
    "     'rfc__n_estimators': [800, 1000, 1200]\n",
    "     ,'rfc__max_depth': [10, 15, 20]\n",
    "     ,'rfc__max_features': [10, 15, 20]\n",
    "     ,'rfc__min_samples_leaf': [2, 3, 4]\n",
    "     ,'rfc__min_samples_split': [10, 12, 15, 20]\n",
    "}"
   ]
  },
  {
   "cell_type": "code",
   "execution_count": 57,
   "metadata": {},
   "outputs": [
    {
     "name": "stdout",
     "output_type": "stream",
     "text": [
      "CPU times: user 47.1 s, sys: 1.83 s, total: 48.9 s\n",
      "Wall time: 2h 5min 54s\n"
     ]
    },
    {
     "data": {
      "text/plain": [
       "GridSearchCV(cv=5,\n",
       "             estimator=Pipeline(steps=[('ct',\n",
       "                                        ColumnTransformer(transformers=[('subpipe_num',\n",
       "                                                                         Pipeline(steps=[('get_num',\n",
       "                                                                                          FunctionTransformer(func=<function grab_numeric at 0x7fb64e09f4c0>)),\n",
       "                                                                                         ('num_impute',\n",
       "                                                                                          SimpleImputer(strategy='most_frequent')),\n",
       "                                                                                         ('ss',\n",
       "                                                                                          StandardScaler())]),\n",
       "                                                                         Index(['behavioral_antiviral_meds', 'behavioral_avoidance',\n",
       "       'behavioral_face_mask...\n",
       "       'household_children', 'employment_industry', 'employment_occupation',\n",
       "       'health_insurance_cat'],\n",
       "      dtype='object'))])),\n",
       "                                       ('rfc', RandomForestClassifier())]),\n",
       "             n_jobs=-2,\n",
       "             param_grid={'rfc__max_depth': [10, 15, 20],\n",
       "                         'rfc__max_features': [10, 15, 20],\n",
       "                         'rfc__min_samples_leaf': [2, 3, 4],\n",
       "                         'rfc__min_samples_split': [10, 12, 15, 20],\n",
       "                         'rfc__n_estimators': [800, 1000, 1200]},\n",
       "             scoring='roc_auc')"
      ]
     },
     "execution_count": 57,
     "metadata": {},
     "output_type": "execute_result"
    }
   ],
   "source": [
    "%%time\n",
    "rfc_gs_cv2 = GridSearchCV(estimator=rfc_model_pipe, scoring=scoring, param_grid=params, cv=5, n_jobs=-2)\n",
    "rfc_gs_cv2.fit(X_train,y_train)"
   ]
  },
  {
   "cell_type": "code",
   "execution_count": 58,
   "metadata": {},
   "outputs": [
    {
     "data": {
      "text/plain": [
       "{'rfc__max_depth': 15,\n",
       " 'rfc__max_features': 15,\n",
       " 'rfc__min_samples_leaf': 2,\n",
       " 'rfc__min_samples_split': 20,\n",
       " 'rfc__n_estimators': 800}"
      ]
     },
     "execution_count": 58,
     "metadata": {},
     "output_type": "execute_result"
    }
   ],
   "source": [
    "rfc_gs_cv2.best_params_"
   ]
  },
  {
   "cell_type": "code",
   "execution_count": 59,
   "metadata": {},
   "outputs": [
    {
     "data": {
      "text/plain": [
       "0.855200364622207"
      ]
     },
     "execution_count": 59,
     "metadata": {},
     "output_type": "execute_result"
    }
   ],
   "source": [
    "rfc_gs_cv2.best_score_"
   ]
  },
  {
   "cell_type": "code",
   "execution_count": 60,
   "metadata": {},
   "outputs": [],
   "source": [
    "# save the model to disk\n",
    "filename = '/Users/gburgess/Documents/Flatiron/projects/project3/Predicting_Vaccinations/data/rfc_gs_cv2_model.sav'\n",
    "pickle.dump(rfc_gs_cv2, open(filename, 'wb'))"
   ]
  },
  {
   "cell_type": "markdown",
   "metadata": {},
   "source": [
    "## Logistic Regression"
   ]
  },
  {
   "cell_type": "code",
   "execution_count": 34,
   "metadata": {},
   "outputs": [],
   "source": [
    "from sklearn.linear_model import LogisticRegression"
   ]
  },
  {
   "cell_type": "code",
   "execution_count": 35,
   "metadata": {},
   "outputs": [],
   "source": [
    "logreg = LogisticRegression()\n",
    "\n",
    "logreg_model_pipe = Pipeline([\n",
    "    ('ct', ct),\n",
    "    ('logreg', logreg)\n",
    "])"
   ]
  },
  {
   "cell_type": "code",
   "execution_count": 36,
   "metadata": {},
   "outputs": [],
   "source": [
    "logreg_defaults_cv = ModelWithCV(\n",
    "    logreg_model_pipe, \n",
    "    model_name='logreg_defaults_model_pipe', \n",
    "    X=X_train, y=y_train, \n",
    "    scoring=scoring\n",
    ")"
   ]
  },
  {
   "cell_type": "code",
   "execution_count": 37,
   "metadata": {},
   "outputs": [
    {
     "name": "stdout",
     "output_type": "stream",
     "text": [
      "CV Results for `logreg_defaults_model_pipe` model:\n",
      "            0.85285 ± 0.01022 roc_auc\n",
      "        \n"
     ]
    },
    {
     "data": {
      "image/png": "[encoded data removed]",
      "text/plain": [
       "<Figure size 432x288 with 1 Axes>"
      ]
     },
     "metadata": {
      "needs_background": "light"
     },
     "output_type": "display_data"
    }
   ],
   "source": [
    "logreg_defaults_cv.print_cv_summary()\n",
    "\n",
    "fig, ax = plt.subplots()\n",
    "logreg_defaults_cv.plot_cv(ax=ax);"
   ]
  },
  {
   "cell_type": "markdown",
   "metadata": {},
   "source": [
    "## GridSearchCV on Logistic Regression"
   ]
  },
  {
   "cell_type": "code",
   "execution_count": 38,
   "metadata": {},
   "outputs": [],
   "source": [
    "params = {\n",
    "    'logreg__penalty': ['l1', 'l2', 'elasticnet']\n",
    "    ,'logreg__C': [100, 10, 1.0, 0.1, 0.01]\n",
    "    ,'logreg__solver': ['saga']\n",
    "    ,'logreg__max_iter': [500, 1000]\n",
    "}"
   ]
  },
  {
   "cell_type": "code",
   "execution_count": 39,
   "metadata": {},
   "outputs": [
    {
     "name": "stdout",
     "output_type": "stream",
     "text": [
      "CPU times: user 5.41 s, sys: 233 ms, total: 5.64 s\n",
      "Wall time: 1min 14s\n"
     ]
    },
    {
     "data": {
      "text/plain": [
       "GridSearchCV(cv=5,\n",
       "             estimator=Pipeline(steps=[('ct',\n",
       "                                        ColumnTransformer(transformers=[('subpipe_num',\n",
       "                                                                         Pipeline(steps=[('get_num',\n",
       "                                                                                          FunctionTransformer(func=<function grab_numeric at 0x7fb64e09f4c0>)),\n",
       "                                                                                         ('num_impute',\n",
       "                                                                                          SimpleImputer(strategy='most_frequent')),\n",
       "                                                                                         ('ss',\n",
       "                                                                                          StandardScaler())]),\n",
       "                                                                         Index(['behavioral_antiviral_meds', 'behavioral_avoidance',\n",
       "       'behavioral_face_mask...\n",
       "       'hhs_geo_region', 'census_msa', 'household_adults',\n",
       "       'household_children', 'employment_industry', 'employment_occupation',\n",
       "       'health_insurance_cat'],\n",
       "      dtype='object'))])),\n",
       "                                       ('logreg', LogisticRegression())]),\n",
       "             n_jobs=-2,\n",
       "             param_grid={'logreg__C': [100, 10, 1.0, 0.1, 0.01],\n",
       "                         'logreg__max_iter': [500, 1000],\n",
       "                         'logreg__penalty': ['l1', 'l2', 'elasticnet'],\n",
       "                         'logreg__solver': ['saga']},\n",
       "             scoring='roc_auc')"
      ]
     },
     "execution_count": 39,
     "metadata": {},
     "output_type": "execute_result"
    }
   ],
   "source": [
    "%%time\n",
    "logreg_gs_cv1 = GridSearchCV(estimator=logreg_model_pipe, scoring=scoring, param_grid=params, cv=5, n_jobs=-2)\n",
    "logreg_gs_cv1.fit(X_train,y_train)"
   ]
  },
  {
   "cell_type": "code",
   "execution_count": 40,
   "metadata": {},
   "outputs": [
    {
     "data": {
      "text/plain": [
       "{'logreg__C': 0.1,\n",
       " 'logreg__max_iter': 1000,\n",
       " 'logreg__penalty': 'l1',\n",
       " 'logreg__solver': 'saga'}"
      ]
     },
     "execution_count": 40,
     "metadata": {},
     "output_type": "execute_result"
    }
   ],
   "source": [
    "logreg_gs_cv1.best_params_"
   ]
  },
  {
   "cell_type": "code",
   "execution_count": 41,
   "metadata": {},
   "outputs": [
    {
     "data": {
      "text/plain": [
       "0.8529817125170286"
      ]
     },
     "execution_count": 41,
     "metadata": {},
     "output_type": "execute_result"
    }
   ],
   "source": [
    "logreg_gs_cv1.best_score_"
   ]
  },
  {
   "cell_type": "code",
   "execution_count": 42,
   "metadata": {},
   "outputs": [],
   "source": [
    "import pickle\n",
    "# save the model to disk\n",
    "filename = '/Users/gburgess/Documents/Flatiron/projects/project3/Predicting_Vaccinations/data/logreg_gs_cv1_model.sav'\n",
    "pickle.dump(logreg_gs_cv1, open(filename, 'wb'))"
   ]
  },
  {
   "cell_type": "markdown",
   "metadata": {},
   "source": [
    "### Improve LogisticRegression hyperparameters with second GridSearchCV\n",
    "We have a set of good hyperparameters from the first grid search. Now, starting with those results, we can narrow down the grid a bit more to improve the model some."
   ]
  },
  {
   "cell_type": "code",
   "execution_count": 61,
   "metadata": {},
   "outputs": [],
   "source": [
    "params = {\n",
    "    'logreg__penalty': ['l1']\n",
    "    ,'logreg__C': [0.5, 0.1, 0.05]\n",
    "    ,'logreg__solver': ['saga', 'liblinear']\n",
    "    ,'logreg__max_iter': [750, 1000, 1250]\n",
    "}"
   ]
  },
  {
   "cell_type": "code",
   "execution_count": 62,
   "metadata": {},
   "outputs": [
    {
     "name": "stdout",
     "output_type": "stream",
     "text": [
      "CPU times: user 3.72 s, sys: 179 ms, total: 3.9 s\n",
      "Wall time: 57.7 s\n"
     ]
    },
    {
     "data": {
      "text/plain": [
       "GridSearchCV(cv=5,\n",
       "             estimator=Pipeline(steps=[('ct',\n",
       "                                        ColumnTransformer(transformers=[('subpipe_num',\n",
       "                                                                         Pipeline(steps=[('get_num',\n",
       "                                                                                          FunctionTransformer(func=<function grab_numeric at 0x7fb64e09f4c0>)),\n",
       "                                                                                         ('num_impute',\n",
       "                                                                                          SimpleImputer(strategy='most_frequent')),\n",
       "                                                                                         ('ss',\n",
       "                                                                                          StandardScaler())]),\n",
       "                                                                         Index(['behavioral_antiviral_meds', 'behavioral_avoidance',\n",
       "       'behavioral_face_mask...\n",
       "       'hhs_geo_region', 'census_msa', 'household_adults',\n",
       "       'household_children', 'employment_industry', 'employment_occupation',\n",
       "       'health_insurance_cat'],\n",
       "      dtype='object'))])),\n",
       "                                       ('logreg', LogisticRegression())]),\n",
       "             n_jobs=-2,\n",
       "             param_grid={'logreg__C': [0.5, 0.1, 0.05],\n",
       "                         'logreg__max_iter': [750, 1000, 1250],\n",
       "                         'logreg__penalty': ['l1'],\n",
       "                         'logreg__solver': ['saga', 'liblinear']},\n",
       "             scoring='roc_auc')"
      ]
     },
     "execution_count": 62,
     "metadata": {},
     "output_type": "execute_result"
    }
   ],
   "source": [
    "%%time\n",
    "logreg_gs_cv2 = GridSearchCV(estimator=logreg_model_pipe, scoring=scoring, param_grid=params, cv=5, n_jobs=-2)\n",
    "logreg_gs_cv2.fit(X_train,y_train)"
   ]
  },
  {
   "cell_type": "code",
   "execution_count": 63,
   "metadata": {},
   "outputs": [
    {
     "data": {
      "text/plain": [
       "{'logreg__C': 0.05,\n",
       " 'logreg__max_iter': 1250,\n",
       " 'logreg__penalty': 'l1',\n",
       " 'logreg__solver': 'saga'}"
      ]
     },
     "execution_count": 63,
     "metadata": {},
     "output_type": "execute_result"
    }
   ],
   "source": [
    "logreg_gs_cv2.best_params_"
   ]
  },
  {
   "cell_type": "code",
   "execution_count": 64,
   "metadata": {},
   "outputs": [
    {
     "data": {
      "text/plain": [
       "0.8531190077567136"
      ]
     },
     "execution_count": 64,
     "metadata": {},
     "output_type": "execute_result"
    }
   ],
   "source": [
    "logreg_gs_cv2.best_score_"
   ]
  },
  {
   "cell_type": "markdown",
   "metadata": {},
   "source": [
    "## Final Model: Random Forest Classifier"
   ]
  },
  {
   "cell_type": "code",
   "execution_count": 65,
   "metadata": {},
   "outputs": [],
   "source": [
    "final_model = RandomForestClassifier(\n",
    "    max_depth=15, \n",
    "    max_features=15,\n",
    "    min_samples_leaf=2,\n",
    "    min_samples_split=20, \n",
    "    n_estimators=800\n",
    ")\n",
    "\n",
    "final_model_pipe = Pipeline([\n",
    "    ('ct', ct),\n",
    "    ('final_model', final_model)\n",
    "])"
   ]
  },
  {
   "cell_type": "code",
   "execution_count": 66,
   "metadata": {},
   "outputs": [
    {
     "data": {
      "text/plain": [
       "Pipeline(steps=[('ct',\n",
       "                 ColumnTransformer(transformers=[('subpipe_num',\n",
       "                                                  Pipeline(steps=[('get_num',\n",
       "                                                                   FunctionTransformer(func=<function grab_numeric at 0x7fb64e09f4c0>)),\n",
       "                                                                  ('num_impute',\n",
       "                                                                   SimpleImputer(strategy='most_frequent')),\n",
       "                                                                  ('ss',\n",
       "                                                                   StandardScaler())]),\n",
       "                                                  Index(['behavioral_antiviral_meds', 'behavioral_avoidance',\n",
       "       'behavioral_face_mask', 'behavioral_wash_hands',\n",
       "       'b...\n",
       "       'income_poverty', 'marital_status', 'rent_or_own', 'employment_status',\n",
       "       'hhs_geo_region', 'census_msa', 'household_adults',\n",
       "       'household_children', 'employment_industry', 'employment_occupation',\n",
       "       'health_insurance_cat'],\n",
       "      dtype='object'))])),\n",
       "                ('final_model',\n",
       "                 RandomForestClassifier(max_depth=15, max_features=15,\n",
       "                                        min_samples_leaf=2,\n",
       "                                        min_samples_split=20,\n",
       "                                        n_estimators=800))])"
      ]
     },
     "execution_count": 66,
     "metadata": {},
     "output_type": "execute_result"
    }
   ],
   "source": [
    "final_model_pipe.fit(X_train, y_train)"
   ]
  },
  {
   "cell_type": "code",
   "execution_count": 98,
   "metadata": {},
   "outputs": [
    {
     "data": {
      "image/png": "[encoded data removed]",
      "text/plain": [
       "<Figure size 432x288 with 2 Axes>"
      ]
     },
     "metadata": {
      "needs_background": "light"
     },
     "output_type": "display_data"
    }
   ],
   "source": [
    "plot_confusion_matrix(final_model_pipe, X_test, y_test, normalize='true');\n",
    "plt.savefig('../images/confusion_matrix.jpg', transparent = False, bbox_inches=\"tight\")"
   ]
  },
  {
   "cell_type": "code",
   "execution_count": 69,
   "metadata": {},
   "outputs": [
    {
     "name": "stdout",
     "output_type": "stream",
     "text": [
      "\n",
      "Our final model's accuracy on the test set is 0.79. \n",
      "\n",
      "Our final model's recall on the test set is 0.76 \n",
      "\n",
      "Our final model's precision on the test set is 0.77 \n",
      "\n",
      "Our final model's f1-score on the test is 0.77.\n",
      "\n"
     ]
    }
   ],
   "source": [
    "y_hat = final_model_pipe.predict(X_test)\n",
    "print(f\"\"\"\n",
    "Our final model's accuracy on the test set is {round(accuracy_score(y_test, y_hat), 2)}. \\n\n",
    "Our final model's recall on the test set is {round(recall_score(y_test, y_hat), 2)} \\n\n",
    "Our final model's precision on the test set is {round(precision_score(y_test, y_hat), 2)} \\n\n",
    "Our final model's f1-score on the test is {round(f1_score(y_test, y_hat), 2)}.\n",
    "\"\"\")"
   ]
  },
  {
   "cell_type": "code",
   "execution_count": 70,
   "metadata": {},
   "outputs": [
    {
     "name": "stdout",
     "output_type": "stream",
     "text": [
      "Our final model's ROC-AUC score is: 0.859\n"
     ]
    },
    {
     "data": {
      "image/png": "[encoded data removed]",
      "text/plain": [
       "<Figure size 432x288 with 1 Axes>"
      ]
     },
     "metadata": {
      "needs_background": "light"
     },
     "output_type": "display_data"
    }
   ],
   "source": [
    "plot_roc_curve(final_model_pipe, X_test, y_test);\n",
    "y_score = final_model_pipe.predict_proba(X_test)[:,1]\n",
    "print(f\"Our final model's ROC-AUC score is: {round(roc_auc_score(y_test, y_score), 3)}\")"
   ]
  },
  {
   "cell_type": "markdown",
   "metadata": {},
   "source": []
  },
  {
   "cell_type": "code",
   "execution_count": 77,
   "metadata": {},
   "outputs": [],
   "source": [
    "column_list1 = list(grab_numeric(X).columns)\n",
    "column_list2 = list(\n",
    "    final_model_pipe.named_steps['ct'].named_transformers_['subpipe_cat']['ohe'].get_feature_names()\n",
    ")\n",
    "\n",
    "final_column_list = column_list1 + column_list2\n",
    "final_column_ndarray = np.array(final_column_list)"
   ]
  },
  {
   "cell_type": "code",
   "execution_count": 87,
   "metadata": {},
   "outputs": [
    {
     "data": {
      "text/plain": [
       "[(0, 'age_group'),\n",
       " (1, 'education'),\n",
       " (2, 'race'),\n",
       " (3, 'sex'),\n",
       " (4, 'income_poverty'),\n",
       " (5, 'marital_status'),\n",
       " (6, 'rent_or_own'),\n",
       " (7, 'employment_status'),\n",
       " (8, 'hhs_geo_region'),\n",
       " (9, 'census_msa'),\n",
       " (10, 'employment_industry'),\n",
       " (11, 'employment_occupation'),\n",
       " (12, 'health_insurance_cat')]"
      ]
     },
     "execution_count": 87,
     "metadata": {},
     "output_type": "execute_result"
    }
   ],
   "source": [
    "list ( zip(range(0,len(grab_object(X).columns)) ,  grab_object(X).columns)) "
   ]
  },
  {
   "cell_type": "code",
   "execution_count": 96,
   "metadata": {},
   "outputs": [
    {
     "data": {
      "image/png": "[encoded data removed]",
      "text/plain": [
       "<Figure size 432x288 with 1 Axes>"
      ]
     },
     "metadata": {
      "needs_background": "light"
     },
     "output_type": "display_data"
    }
   ],
   "source": [
    "#https://towardsdatascience.com/understanding-feature-importance-and-how-to-implement-it-in-python-ff0287b20285\n",
    "\n",
    "final_model_FIs = final_model_pipe.named_steps['final_model'].feature_importances_\n",
    "final_model_FIs_sort = final_model_pipe.named_steps['final_model'].feature_importances_.argsort()\n",
    "\n",
    "num_elements = 20\n",
    "ending_value = len(final_model_FIs)\n",
    "starting_value = ending_value - num_elements\n",
    "\n",
    "plt.barh(\n",
    "    final_column_ndarray[ final_model_FIs_sort[starting_value:ending_value] ], \n",
    "    final_model_FIs[ final_model_FIs_sort[starting_value:ending_value] ]\n",
    ")\n",
    "plt.xlabel(\"Feature Importance\");\n",
    "plt.savefig('../images/feature_importance.jpg', transparent = False, bbox_inches=\"tight\");"
   ]
  },
  {
   "cell_type": "code",
   "execution_count": 94,
   "metadata": {},
   "outputs": [
    {
     "data": {
      "image/png": "[encoded data removed]",
      "text/plain": [
       "<Figure size 432x288 with 1 Axes>"
      ]
     },
     "metadata": {
      "needs_background": "light"
     },
     "output_type": "display_data"
    }
   ],
   "source": [
    "manual_list = [\"Number of children in household\", \"Has chronic medical\", \"Has healthcare insurance\", \n",
    "               \"Healthcare worker\", \"Opinion: Sick from vaccine\", \"Age: 18-34 Years\", \n",
    "               \"Age: 65+ Years\", \"Doctor recommended\",  \"Opinion: risk from flu\", \"Opinion: effective\"]\n",
    "\n",
    "num_elements = 10\n",
    "ending_value = len(final_model_FIs)\n",
    "starting_value = ending_value - num_elements\n",
    "\n",
    "plt.barh(\n",
    "    manual_list, \n",
    "    final_model_FIs[ final_model_FIs_sort[starting_value:ending_value] ]\n",
    ")\n",
    "plt.xlabel(\"Feature Importance\");\n",
    "plt.savefig('../images/feature_importance_manual.jpg', transparent = False, bbox_inches=\"tight\");"
   ]
  },
  {
   "cell_type": "code",
   "execution_count": 55,
   "metadata": {},
   "outputs": [],
   "source": []
  },
  {
   "cell_type": "code",
   "execution_count": null,
   "metadata": {},
   "outputs": [],
   "source": []
  }
 ],
 "metadata": {
  "kernelspec": {
   "display_name": "Python (learn-env)",
   "language": "python",
   "name": "learn-env"
  },
  "language_info": {
   "codemirror_mode": {
    "name": "ipython",
    "version": 3
   },
   "file_extension": ".py",
   "mimetype": "text/x-python",
   "name": "python",
   "nbconvert_exporter": "python",
   "pygments_lexer": "ipython3",
   "version": "3.8.5"
  },
  "toc": {
   "base_numbering": 1,
   "nav_menu": {},
   "number_sections": true,
   "sideBar": true,
   "skip_h1_title": false,
   "title_cell": "Table of Contents",
   "title_sidebar": "Contents",
   "toc_cell": false,
   "toc_position": {},
   "toc_section_display": true,
   "toc_window_display": false
  }
 },
 "nbformat": 4,
 "nbformat_minor": 4
}
