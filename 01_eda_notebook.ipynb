{
 "cells": [
  {
   "cell_type": "markdown",
   "metadata": {},
   "source": [
    "# EDA notebook"
   ]
  },
  {
   "cell_type": "code",
   "execution_count": 1,
   "metadata": {},
   "outputs": [],
   "source": [
    "import numpy as np\n",
    "import pandas as pd"
   ]
  },
  {
   "cell_type": "code",
   "execution_count": 2,
   "metadata": {},
   "outputs": [],
   "source": [
    "# set options to make data easier to view in Jupyter Notebook\n",
    "pd.set_option(\"display.max_columns\", 100)"
   ]
  },
  {
   "cell_type": "code",
   "execution_count": 3,
   "metadata": {},
   "outputs": [],
   "source": [
    "initial_features_df = pd.read_csv('data/training_set_features.csv')\n",
    "initial_labels_df = pd.read_csv('data/training_set_labels.csv')"
   ]
  },
  {
   "cell_type": "markdown",
   "metadata": {},
   "source": [
    "## Check target labels for potential issues"
   ]
  },
  {
   "cell_type": "markdown",
   "metadata": {},
   "source": [
    "Check the target labels for:\n",
    "- missing rows\n",
    "- target labels are strings instead of numbers\n",
    "- duplicated survey respondent_id (same person took survey twice, was entered twice, etc.)\n",
    "- number of classes in target variable\n",
    "- class imbalance in target variable"
   ]
  },
  {
   "cell_type": "code",
   "execution_count": 4,
   "metadata": {},
   "outputs": [
    {
     "name": "stdout",
     "output_type": "stream",
     "text": [
      "<class 'pandas.core.frame.DataFrame'>\n",
      "RangeIndex: 26707 entries, 0 to 26706\n",
      "Data columns (total 3 columns):\n",
      " #   Column            Non-Null Count  Dtype\n",
      "---  ------            --------------  -----\n",
      " 0   respondent_id     26707 non-null  int64\n",
      " 1   h1n1_vaccine      26707 non-null  int64\n",
      " 2   seasonal_vaccine  26707 non-null  int64\n",
      "dtypes: int64(3)\n",
      "memory usage: 626.1 KB\n"
     ]
    }
   ],
   "source": [
    "# check labels for missing rows and object /string dtypes\n",
    "initial_labels_df.info()"
   ]
  },
  {
   "cell_type": "code",
   "execution_count": 5,
   "metadata": {},
   "outputs": [
    {
     "data": {
      "text/plain": [
       "0"
      ]
     },
     "execution_count": 5,
     "metadata": {},
     "output_type": "execute_result"
    }
   ],
   "source": [
    "# check for duplicate respondent_id (same person took survey twice)\n",
    "initial_labels_df['respondent_id'].duplicated().sum()"
   ]
  },
  {
   "cell_type": "code",
   "execution_count": 6,
   "metadata": {},
   "outputs": [
    {
     "data": {
      "text/plain": [
       "array([0, 1])"
      ]
     },
     "execution_count": 6,
     "metadata": {},
     "output_type": "execute_result"
    }
   ],
   "source": [
    "# See how many classes there are in target label\n",
    "y = initial_labels_df['seasonal_vaccine']\n",
    "y.unique()"
   ]
  },
  {
   "cell_type": "code",
   "execution_count": 7,
   "metadata": {},
   "outputs": [
    {
     "data": {
      "text/plain": [
       "0.4656082674954132"
      ]
     },
     "execution_count": 7,
     "metadata": {},
     "output_type": "execute_result"
    }
   ],
   "source": [
    "# look at proportion of 1's (to check for class imbalance)\n",
    "y.mean()"
   ]
  },
  {
   "cell_type": "markdown",
   "metadata": {},
   "source": [
    "## Review features for potential issues"
   ]
  },
  {
   "cell_type": "markdown",
   "metadata": {},
   "source": [
    "Check features for:\n",
    "- missing rows\n",
    "- whether categorical columns are strings or numbers"
   ]
  },
  {
   "cell_type": "code",
   "execution_count": 8,
   "metadata": {},
   "outputs": [
    {
     "name": "stdout",
     "output_type": "stream",
     "text": [
      "<class 'pandas.core.frame.DataFrame'>\n",
      "RangeIndex: 26707 entries, 0 to 26706\n",
      "Data columns (total 36 columns):\n",
      " #   Column                       Non-Null Count  Dtype  \n",
      "---  ------                       --------------  -----  \n",
      " 0   respondent_id                26707 non-null  int64  \n",
      " 1   h1n1_concern                 26615 non-null  float64\n",
      " 2   h1n1_knowledge               26591 non-null  float64\n",
      " 3   behavioral_antiviral_meds    26636 non-null  float64\n",
      " 4   behavioral_avoidance         26499 non-null  float64\n",
      " 5   behavioral_face_mask         26688 non-null  float64\n",
      " 6   behavioral_wash_hands        26665 non-null  float64\n",
      " 7   behavioral_large_gatherings  26620 non-null  float64\n",
      " 8   behavioral_outside_home      26625 non-null  float64\n",
      " 9   behavioral_touch_face        26579 non-null  float64\n",
      " 10  doctor_recc_h1n1             24547 non-null  float64\n",
      " 11  doctor_recc_seasonal         24547 non-null  float64\n",
      " 12  chronic_med_condition        25736 non-null  float64\n",
      " 13  child_under_6_months         25887 non-null  float64\n",
      " 14  health_worker                25903 non-null  float64\n",
      " 15  health_insurance             14433 non-null  float64\n",
      " 16  opinion_h1n1_vacc_effective  26316 non-null  float64\n",
      " 17  opinion_h1n1_risk            26319 non-null  float64\n",
      " 18  opinion_h1n1_sick_from_vacc  26312 non-null  float64\n",
      " 19  opinion_seas_vacc_effective  26245 non-null  float64\n",
      " 20  opinion_seas_risk            26193 non-null  float64\n",
      " 21  opinion_seas_sick_from_vacc  26170 non-null  float64\n",
      " 22  age_group                    26707 non-null  object \n",
      " 23  education                    25300 non-null  object \n",
      " 24  race                         26707 non-null  object \n",
      " 25  sex                          26707 non-null  object \n",
      " 26  income_poverty               22284 non-null  object \n",
      " 27  marital_status               25299 non-null  object \n",
      " 28  rent_or_own                  24665 non-null  object \n",
      " 29  employment_status            25244 non-null  object \n",
      " 30  hhs_geo_region               26707 non-null  object \n",
      " 31  census_msa                   26707 non-null  object \n",
      " 32  household_adults             26458 non-null  float64\n",
      " 33  household_children           26458 non-null  float64\n",
      " 34  employment_industry          13377 non-null  object \n",
      " 35  employment_occupation        13237 non-null  object \n",
      "dtypes: float64(23), int64(1), object(12)\n",
      "memory usage: 7.3+ MB\n"
     ]
    }
   ],
   "source": [
    "initial_features_df.info()"
   ]
  },
  {
   "cell_type": "markdown",
   "metadata": {},
   "source": [
    "### Drop irrelevant columns"
   ]
  },
  {
   "cell_type": "markdown",
   "metadata": {},
   "source": [
    "Drop these columns (for these reasons):\n",
    "- respondent_id (unique identifier, randomly assigned)\n",
    "- ['h1n1_concern', 'h1n1_knowledge', 'doctor_recc_h1n1', \n",
    "    'opinion_h1n1_vacc_effective', 'opinion_h1n1_risk', 'opinion_h1n1_sick_from_vacc'] (Focusing on seasonal flu vaccine, so questions about other viruses seem extraneous and unrelated)"
   ]
  },
  {
   "cell_type": "code",
   "execution_count": 11,
   "metadata": {},
   "outputs": [],
   "source": [
    "# drop columns that are not useful for training model\n",
    "initial_features_df.drop(columns=[\n",
    "    'respondent_id', 'h1n1_concern', 'h1n1_knowledge', 'doctor_recc_h1n1', \n",
    "    'opinion_h1n1_vacc_effective', 'opinion_h1n1_risk', 'opinion_h1n1_sick_from_vacc'\n",
    "], inplace=True)"
   ]
  },
  {
   "cell_type": "markdown",
   "metadata": {},
   "source": [
    "### Inspect numeric columns and object (string) columns separately"
   ]
  },
  {
   "cell_type": "code",
   "execution_count": 12,
   "metadata": {},
   "outputs": [],
   "source": [
    "# function to return lists of numeric and non-numeric columns\n",
    "def dataframe_info(df):\n",
    "    '''\n",
    "    Takes Pandas dataframe (df). Prints number of rows, number of columns, and three sample rows.\n",
    "    Returns list of numerical columns and list of non-numerical columns.\n",
    "    '''\n",
    "    numeric_cols = df.select_dtypes(include=np.number).columns.tolist()\n",
    "    object_cols  = df.select_dtypes(exclude=np.number).columns.tolist()\n",
    "    \n",
    "    return numeric_cols, object_cols"
   ]
  },
  {
   "cell_type": "code",
   "execution_count": 13,
   "metadata": {},
   "outputs": [
    {
     "name": "stdout",
     "output_type": "stream",
     "text": [
      "List of numeric columns: \n",
      " ['behavioral_antiviral_meds', 'behavioral_avoidance', 'behavioral_face_mask', 'behavioral_wash_hands', 'behavioral_large_gatherings', 'behavioral_outside_home', 'behavioral_touch_face', 'doctor_recc_seasonal', 'chronic_med_condition', 'child_under_6_months', 'health_worker', 'health_insurance', 'opinion_seas_vacc_effective', 'opinion_seas_risk', 'opinion_seas_sick_from_vacc', 'household_adults', 'household_children']\n",
      "\n",
      "\n",
      "List of object columns: \n",
      " ['age_group', 'education', 'race', 'sex', 'income_poverty', 'marital_status', 'rent_or_own', 'employment_status', 'hhs_geo_region', 'census_msa', 'employment_industry', 'employment_occupation']\n"
     ]
    }
   ],
   "source": [
    "numeric_cols, object_cols = dataframe_info(initial_features_df)\n",
    "print('List of numeric columns: \\n', numeric_cols)\n",
    "print('\\n')\n",
    "print('List of object columns: \\n', object_cols)"
   ]
  },
  {
   "cell_type": "markdown",
   "metadata": {},
   "source": [
    "#### Use value_counts(dropna=False) to determine number of categories and proportion of NaNs"
   ]
  },
  {
   "cell_type": "markdown",
   "metadata": {},
   "source": [
    "Observations:\n",
    "- `health_insurance` has large proportion of NaNs\n",
    "    - Missing values don't seem to be related to `employment_status`\n",
    "    - [Interview questions](https://ftp.cdc.gov/pub/health_Statistics/nchs/Dataset_Documentation/NIS/nhfs/NHFSPUF_QUEX.PDF) appear to offer \"don't know\" and \"refused to answer\" choices, so missing values might reflect these choices\n",
    "- \"opinion\" variables are on Likert scale (ratings 1 - 5)\n",
    "- \"household\" variables are counts\n",
    "\n",
    "More info in [Data Dictionary](https://www.drivendata.org/competitions/66/flu-shot-learning/page/211/#labels) "
   ]
  },
  {
   "cell_type": "code",
   "execution_count": 14,
   "metadata": {
    "scrolled": false
   },
   "outputs": [
    {
     "name": "stdout",
     "output_type": "stream",
     "text": [
      "Column: behavioral_antiviral_meds\n"
     ]
    },
    {
     "data": {
      "text/plain": [
       "0.0    0.948628\n",
       "1.0    0.048714\n",
       "NaN    0.002658\n",
       "Name: behavioral_antiviral_meds, dtype: float64"
      ]
     },
     "metadata": {},
     "output_type": "display_data"
    },
    {
     "name": "stdout",
     "output_type": "stream",
     "text": [
      "\n",
      "\n",
      "Column: behavioral_avoidance\n"
     ]
    },
    {
     "data": {
      "text/plain": [
       "1.0    0.719961\n",
       "0.0    0.272251\n",
       "NaN    0.007788\n",
       "Name: behavioral_avoidance, dtype: float64"
      ]
     },
     "metadata": {},
     "output_type": "display_data"
    },
    {
     "name": "stdout",
     "output_type": "stream",
     "text": [
      "\n",
      "\n",
      "Column: behavioral_face_mask\n"
     ]
    },
    {
     "data": {
      "text/plain": [
       "0.0    0.930355\n",
       "1.0    0.068933\n",
       "NaN    0.000711\n",
       "Name: behavioral_face_mask, dtype: float64"
      ]
     },
     "metadata": {},
     "output_type": "display_data"
    },
    {
     "name": "stdout",
     "output_type": "stream",
     "text": [
      "\n",
      "\n",
      "Column: behavioral_wash_hands\n"
     ]
    },
    {
     "data": {
      "text/plain": [
       "1.0    0.824316\n",
       "0.0    0.174112\n",
       "NaN    0.001573\n",
       "Name: behavioral_wash_hands, dtype: float64"
      ]
     },
     "metadata": {},
     "output_type": "display_data"
    },
    {
     "name": "stdout",
     "output_type": "stream",
     "text": [
      "\n",
      "\n",
      "Column: behavioral_large_gatherings\n"
     ]
    },
    {
     "data": {
      "text/plain": [
       "0.0    0.639271\n",
       "1.0    0.357472\n",
       "NaN    0.003258\n",
       "Name: behavioral_large_gatherings, dtype: float64"
      ]
     },
     "metadata": {},
     "output_type": "display_data"
    },
    {
     "name": "stdout",
     "output_type": "stream",
     "text": [
      "\n",
      "\n",
      "Column: behavioral_outside_home\n"
     ]
    },
    {
     "data": {
      "text/plain": [
       "0.0    0.660651\n",
       "1.0    0.336279\n",
       "NaN    0.003070\n",
       "Name: behavioral_outside_home, dtype: float64"
      ]
     },
     "metadata": {},
     "output_type": "display_data"
    },
    {
     "name": "stdout",
     "output_type": "stream",
     "text": [
      "\n",
      "\n",
      "Column: behavioral_touch_face\n"
     ]
    },
    {
     "data": {
      "text/plain": [
       "1.0    0.674018\n",
       "0.0    0.321189\n",
       "NaN    0.004793\n",
       "Name: behavioral_touch_face, dtype: float64"
      ]
     },
     "metadata": {},
     "output_type": "display_data"
    },
    {
     "name": "stdout",
     "output_type": "stream",
     "text": [
      "\n",
      "\n",
      "Column: doctor_recc_seasonal\n"
     ]
    },
    {
     "data": {
      "text/plain": [
       "0.0    0.616056\n",
       "1.0    0.303067\n",
       "NaN    0.080878\n",
       "Name: doctor_recc_seasonal, dtype: float64"
      ]
     },
     "metadata": {},
     "output_type": "display_data"
    },
    {
     "name": "stdout",
     "output_type": "stream",
     "text": [
      "\n",
      "\n",
      "Column: chronic_med_condition\n"
     ]
    },
    {
     "data": {
      "text/plain": [
       "0.0    0.690680\n",
       "1.0    0.272962\n",
       "NaN    0.036358\n",
       "Name: chronic_med_condition, dtype: float64"
      ]
     },
     "metadata": {},
     "output_type": "display_data"
    },
    {
     "name": "stdout",
     "output_type": "stream",
     "text": [
      "\n",
      "\n",
      "Column: child_under_6_months\n"
     ]
    },
    {
     "data": {
      "text/plain": [
       "0.0    0.889243\n",
       "1.0    0.080054\n",
       "NaN    0.030704\n",
       "Name: child_under_6_months, dtype: float64"
      ]
     },
     "metadata": {},
     "output_type": "display_data"
    },
    {
     "name": "stdout",
     "output_type": "stream",
     "text": [
      "\n",
      "\n",
      "Column: health_worker\n"
     ]
    },
    {
     "data": {
      "text/plain": [
       "0.0    0.861347\n",
       "1.0    0.108548\n",
       "NaN    0.030104\n",
       "Name: health_worker, dtype: float64"
      ]
     },
     "metadata": {},
     "output_type": "display_data"
    },
    {
     "name": "stdout",
     "output_type": "stream",
     "text": [
      "\n",
      "\n",
      "Column: health_insurance\n"
     ]
    },
    {
     "data": {
      "text/plain": [
       "1.0    0.475418\n",
       "NaN    0.459580\n",
       "0.0    0.065002\n",
       "Name: health_insurance, dtype: float64"
      ]
     },
     "metadata": {},
     "output_type": "display_data"
    },
    {
     "name": "stdout",
     "output_type": "stream",
     "text": [
      "\n",
      "\n",
      "Column: opinion_seas_vacc_effective\n"
     ]
    },
    {
     "data": {
      "text/plain": [
       "4.0    0.435429\n",
       "5.0    0.373423\n",
       "2.0    0.082600\n",
       "1.0    0.045718\n",
       "3.0    0.045531\n",
       "NaN    0.017299\n",
       "Name: opinion_seas_vacc_effective, dtype: float64"
      ]
     },
     "metadata": {},
     "output_type": "display_data"
    },
    {
     "name": "stdout",
     "output_type": "stream",
     "text": [
      "\n",
      "\n",
      "Column: opinion_seas_risk\n"
     ]
    },
    {
     "data": {
      "text/plain": [
       "2.0    0.335268\n",
       "4.0    0.285693\n",
       "1.0    0.223687\n",
       "5.0    0.110757\n",
       "3.0    0.025349\n",
       "NaN    0.019246\n",
       "Name: opinion_seas_risk, dtype: float64"
      ]
     },
     "metadata": {},
     "output_type": "display_data"
    },
    {
     "name": "stdout",
     "output_type": "stream",
     "text": [
      "\n",
      "\n",
      "Column: opinion_seas_sick_from_vacc\n"
     ]
    },
    {
     "data": {
      "text/plain": [
       "1.0    0.444453\n",
       "2.0    0.285805\n",
       "4.0    0.181675\n",
       "5.0    0.064440\n",
       "NaN    0.020107\n",
       "3.0    0.003520\n",
       "Name: opinion_seas_sick_from_vacc, dtype: float64"
      ]
     },
     "metadata": {},
     "output_type": "display_data"
    },
    {
     "name": "stdout",
     "output_type": "stream",
     "text": [
      "\n",
      "\n",
      "Column: household_adults\n"
     ]
    },
    {
     "data": {
      "text/plain": [
       "1.0    0.541955\n",
       "0.0    0.301644\n",
       "2.0    0.104954\n",
       "3.0    0.042124\n",
       "NaN    0.009323\n",
       "Name: household_adults, dtype: float64"
      ]
     },
     "metadata": {},
     "output_type": "display_data"
    },
    {
     "name": "stdout",
     "output_type": "stream",
     "text": [
      "\n",
      "\n",
      "Column: household_children\n"
     ]
    },
    {
     "data": {
      "text/plain": [
       "0.0    0.699143\n",
       "1.0    0.118883\n",
       "2.0    0.107238\n",
       "3.0    0.065414\n",
       "NaN    0.009323\n",
       "Name: household_children, dtype: float64"
      ]
     },
     "metadata": {},
     "output_type": "display_data"
    },
    {
     "name": "stdout",
     "output_type": "stream",
     "text": [
      "\n",
      "\n"
     ]
    }
   ],
   "source": [
    "for col in numeric_cols:\n",
    "    print(f\"Column: {col}\")\n",
    "    display(initial_features_df[col].value_counts(normalize=True, dropna=False))\n",
    "    print(\"\\n\")"
   ]
  },
  {
   "cell_type": "markdown",
   "metadata": {},
   "source": [
    "Observations:\n",
    "- `employment_industry` and `employment_occupation` have large proportion of NaNs (~ 50%)\n",
    "    - Most of these occur when `employment_status` does not equal 'Employed'\n",
    "\n",
    "More info in [Data Dictionary](https://www.drivendata.org/competitions/66/flu-shot-learning/page/211/#labels) "
   ]
  },
  {
   "cell_type": "code",
   "execution_count": 15,
   "metadata": {
    "scrolled": false
   },
   "outputs": [
    {
     "name": "stdout",
     "output_type": "stream",
     "text": [
      "Column: age_group\n"
     ]
    },
    {
     "data": {
      "text/plain": [
       "65+ Years        0.256225\n",
       "55 - 64 Years    0.208297\n",
       "45 - 54 Years    0.196128\n",
       "18 - 34 Years    0.195267\n",
       "35 - 44 Years    0.144082\n",
       "Name: age_group, dtype: float64"
      ]
     },
     "metadata": {},
     "output_type": "display_data"
    },
    {
     "name": "stdout",
     "output_type": "stream",
     "text": [
      "\n",
      "\n",
      "Column: education\n"
     ]
    },
    {
     "data": {
      "text/plain": [
       "College Graduate    0.378066\n",
       "Some College        0.263714\n",
       "12 Years            0.217059\n",
       "< 12 Years          0.088479\n",
       "NaN                 0.052683\n",
       "Name: education, dtype: float64"
      ]
     },
     "metadata": {},
     "output_type": "display_data"
    },
    {
     "name": "stdout",
     "output_type": "stream",
     "text": [
      "\n",
      "\n",
      "Column: race\n"
     ]
    },
    {
     "data": {
      "text/plain": [
       "White                0.794623\n",
       "Black                0.079305\n",
       "Hispanic             0.065713\n",
       "Other or Multiple    0.060359\n",
       "Name: race, dtype: float64"
      ]
     },
     "metadata": {},
     "output_type": "display_data"
    },
    {
     "name": "stdout",
     "output_type": "stream",
     "text": [
      "\n",
      "\n",
      "Column: sex\n"
     ]
    },
    {
     "data": {
      "text/plain": [
       "Female    0.593777\n",
       "Male      0.406223\n",
       "Name: sex, dtype: float64"
      ]
     },
     "metadata": {},
     "output_type": "display_data"
    },
    {
     "name": "stdout",
     "output_type": "stream",
     "text": [
      "\n",
      "\n",
      "Column: income_poverty\n"
     ]
    },
    {
     "data": {
      "text/plain": [
       "<= $75,000, Above Poverty    0.478414\n",
       "> $75,000                    0.254989\n",
       "NaN                          0.165612\n",
       "Below Poverty                0.100985\n",
       "Name: income_poverty, dtype: float64"
      ]
     },
     "metadata": {},
     "output_type": "display_data"
    },
    {
     "name": "stdout",
     "output_type": "stream",
     "text": [
      "\n",
      "\n",
      "Column: marital_status\n"
     ]
    },
    {
     "data": {
      "text/plain": [
       "Married        0.507545\n",
       "Not Married    0.439735\n",
       "NaN            0.052720\n",
       "Name: marital_status, dtype: float64"
      ]
     },
     "metadata": {},
     "output_type": "display_data"
    },
    {
     "name": "stdout",
     "output_type": "stream",
     "text": [
      "\n",
      "\n",
      "Column: rent_or_own\n"
     ]
    },
    {
     "data": {
      "text/plain": [
       "Own     0.701539\n",
       "Rent    0.222002\n",
       "NaN     0.076459\n",
       "Name: rent_or_own, dtype: float64"
      ]
     },
     "metadata": {},
     "output_type": "display_data"
    },
    {
     "name": "stdout",
     "output_type": "stream",
     "text": [
      "\n",
      "\n",
      "Column: employment_status\n"
     ]
    },
    {
     "data": {
      "text/plain": [
       "Employed              0.507732\n",
       "Not in Labor Force    0.383083\n",
       "NaN                   0.054780\n",
       "Unemployed            0.054405\n",
       "Name: employment_status, dtype: float64"
      ]
     },
     "metadata": {},
     "output_type": "display_data"
    },
    {
     "name": "stdout",
     "output_type": "stream",
     "text": [
      "\n",
      "\n",
      "Column: hhs_geo_region\n"
     ]
    },
    {
     "data": {
      "text/plain": [
       "lzgpxyit    0.160894\n",
       "fpwskwrf    0.122253\n",
       "qufhixun    0.116149\n",
       "oxchjgsf    0.107051\n",
       "kbazzjca    0.107013\n",
       "bhuqouqj    0.106564\n",
       "mlyzmhmf    0.083985\n",
       "lrircsnp    0.077807\n",
       "atmpeygn    0.076122\n",
       "dqpwygqj    0.042161\n",
       "Name: hhs_geo_region, dtype: float64"
      ]
     },
     "metadata": {},
     "output_type": "display_data"
    },
    {
     "name": "stdout",
     "output_type": "stream",
     "text": [
      "\n",
      "\n",
      "Column: census_msa\n"
     ]
    },
    {
     "data": {
      "text/plain": [
       "MSA, Not Principle  City    0.436028\n",
       "MSA, Principle City         0.294455\n",
       "Non-MSA                     0.269517\n",
       "Name: census_msa, dtype: float64"
      ]
     },
     "metadata": {},
     "output_type": "display_data"
    },
    {
     "name": "stdout",
     "output_type": "stream",
     "text": [
      "\n",
      "\n",
      "Column: employment_industry\n"
     ]
    },
    {
     "data": {
      "text/plain": [
       "NaN         0.499120\n",
       "fcxhlnwr    0.092410\n",
       "wxleyezf    0.067548\n",
       "ldnlellj    0.046093\n",
       "pxcmvdjn    0.038829\n",
       "atmlpfrs    0.034673\n",
       "arjwrbjb    0.032613\n",
       "xicduogh    0.031864\n",
       "mfikgejo    0.022990\n",
       "vjjrobsf    0.019733\n",
       "rucpziij    0.019583\n",
       "xqicxuve    0.019134\n",
       "saaquncn    0.012656\n",
       "cfqqtusy    0.012169\n",
       "nduyfdeo    0.010709\n",
       "mcubkhph    0.010297\n",
       "wlfvacwt    0.008050\n",
       "dotnnunm    0.007526\n",
       "haxffmxo    0.005542\n",
       "msuufmds    0.004643\n",
       "phxvnwax    0.003332\n",
       "qnlwzans    0.000487\n",
       "Name: employment_industry, dtype: float64"
      ]
     },
     "metadata": {},
     "output_type": "display_data"
    },
    {
     "name": "stdout",
     "output_type": "stream",
     "text": [
      "\n",
      "\n",
      "Column: employment_occupation\n"
     ]
    },
    {
     "data": {
      "text/plain": [
       "NaN         0.504362\n",
       "xtkaffoo    0.066574\n",
       "mxkfnird    0.056502\n",
       "emcorrxb    0.047553\n",
       "cmhcxjea    0.046692\n",
       "xgwztkwe    0.040514\n",
       "hfxkjkmi    0.028682\n",
       "qxajmpny    0.020519\n",
       "xqwwgdyp    0.018160\n",
       "kldqjyjy    0.017561\n",
       "uqqtjvyb    0.016924\n",
       "tfqavkke    0.014528\n",
       "ukymxvdu    0.013929\n",
       "vlluhbov    0.013255\n",
       "oijqvulv    0.012881\n",
       "ccgxvspp    0.012768\n",
       "bxpfxfdn    0.012394\n",
       "haliazsg    0.011083\n",
       "rcertsgn    0.010334\n",
       "xzmlyyjv    0.009286\n",
       "dlvbwzss    0.008500\n",
       "hodpvpew    0.007788\n",
       "dcjcmpih    0.005542\n",
       "pvmttkik    0.003669\n",
       "Name: employment_occupation, dtype: float64"
      ]
     },
     "metadata": {},
     "output_type": "display_data"
    },
    {
     "name": "stdout",
     "output_type": "stream",
     "text": [
      "\n",
      "\n"
     ]
    }
   ],
   "source": [
    "for col in object_cols:\n",
    "    print(f\"Column: {col}\")\n",
    "    display(initial_features_df[col].value_counts(normalize=True, dropna=False))\n",
    "    print(\"\\n\")"
   ]
  },
  {
   "cell_type": "markdown",
   "metadata": {},
   "source": [
    "### Are missing values systematic"
   ]
  },
  {
   "cell_type": "markdown",
   "metadata": {},
   "source": [
    "***Can missing values in `employment_industry`, `employment_occupation`, and `health_insurance` be explained by current `employment_status`?***"
   ]
  },
  {
   "cell_type": "markdown",
   "metadata": {},
   "source": [
    "Most NaNs in `employment_industry` and `employment_occupation` occur when not Employed, but not all"
   ]
  },
  {
   "cell_type": "code",
   "execution_count": 16,
   "metadata": {},
   "outputs": [
    {
     "data": {
      "text/plain": [
       "Not in Labor Force    0.767517\n",
       "NaN                   0.109752\n",
       "Unemployed            0.109002\n",
       "Employed              0.013728\n",
       "Name: employment_status, dtype: float64"
      ]
     },
     "metadata": {},
     "output_type": "display_data"
    },
    {
     "data": {
      "text/plain": [
       "Not in Labor Force    0.759540\n",
       "NaN                   0.108612\n",
       "Unemployed            0.107869\n",
       "Employed              0.023979\n",
       "Name: employment_status, dtype: float64"
      ]
     },
     "metadata": {},
     "output_type": "display_data"
    }
   ],
   "source": [
    "filt = (initial_features_df['employment_industry'].isna())\n",
    "display( initial_features_df.loc[filt]['employment_status'].value_counts(normalize=True, dropna=False) )\n",
    "\n",
    "filt = (initial_features_df['employment_occupation'].isna())\n",
    "display( initial_features_df.loc[filt]['employment_status'].value_counts(normalize=True, dropna=False) )"
   ]
  },
  {
   "cell_type": "markdown",
   "metadata": {},
   "source": [
    "But, that's not what's going on with missing `health_insurance`. It's missing almost as often for employed and unemployed."
   ]
  },
  {
   "cell_type": "code",
   "execution_count": 17,
   "metadata": {
    "scrolled": true
   },
   "outputs": [
    {
     "data": {
      "text/plain": [
       "Employed              0.485742\n",
       "Not in Labor Force    0.356037\n",
       "NaN                   0.109989\n",
       "Unemployed            0.048232\n",
       "Name: employment_status, dtype: float64"
      ]
     },
     "metadata": {},
     "output_type": "display_data"
    }
   ],
   "source": [
    "filt = (initial_features_df['health_insurance'].isna())\n",
    "display( initial_features_df.loc[filt]['employment_status'].value_counts(normalize=True, dropna=False) )"
   ]
  }
 ],
 "metadata": {
  "kernelspec": {
   "display_name": "Python (learn-env)",
   "language": "python",
   "name": "learn-env"
  },
  "language_info": {
   "codemirror_mode": {
    "name": "ipython",
    "version": 3
   },
   "file_extension": ".py",
   "mimetype": "text/x-python",
   "name": "python",
   "nbconvert_exporter": "python",
   "pygments_lexer": "ipython3",
   "version": "3.8.5"
  },
  "toc": {
   "base_numbering": 1,
   "nav_menu": {},
   "number_sections": true,
   "sideBar": true,
   "skip_h1_title": false,
   "title_cell": "Table of Contents",
   "title_sidebar": "Contents",
   "toc_cell": false,
   "toc_position": {},
   "toc_section_display": true,
   "toc_window_display": false
  }
 },
 "nbformat": 4,
 "nbformat_minor": 4
}
